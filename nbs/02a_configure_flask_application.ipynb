{
 "cells": [
  {
   "cell_type": "markdown",
   "id": "8f565c06",
   "metadata": {},
   "source": [
    "## 2.a Configure Flask Application"
   ]
  },
  {
   "cell_type": "markdown",
   "id": "07bea007",
   "metadata": {},
   "source": [
    "**GitHub Link:** [2.a Configure Flask Application](https://github.com/khhaledahmaad/attendance_monitoring_via_sms/blob/main/nbs/02a_configure_flask_application.ipynb)"
   ]
  },
  {
   "cell_type": "code",
   "execution_count": null,
   "id": "e6c9998f",
   "metadata": {},
   "outputs": [],
   "source": []
  },
  {
   "cell_type": "code",
   "execution_count": null,
   "id": "7e2b0dba",
   "metadata": {},
   "outputs": [],
   "source": []
  },
  {
   "cell_type": "code",
   "execution_count": null,
   "id": "99884915",
   "metadata": {},
   "outputs": [],
   "source": []
  },
  {
   "attachments": {
    "lsbu%20logo.png": {
     "image/png": "[encoded data removed]"
    }
   },
   "cell_type": "markdown",
   "id": "9d3a332c",
   "metadata": {},
   "source": [
    "![lsbu%20logo.png](attachment:lsbu%20logo.png)"
   ]
  },
  {
   "cell_type": "code",
   "execution_count": null,
   "id": "20a8be00",
   "metadata": {},
   "outputs": [],
   "source": []
  },
  {
   "cell_type": "code",
   "execution_count": null,
   "id": "215ae274",
   "metadata": {},
   "outputs": [],
   "source": []
  },
  {
   "cell_type": "code",
   "execution_count": null,
   "id": "53ca62fa",
   "metadata": {},
   "outputs": [],
   "source": []
  },
  {
   "cell_type": "code",
   "execution_count": null,
   "id": "1ad62f8f",
   "metadata": {},
   "outputs": [],
   "source": []
  },
  {
   "cell_type": "markdown",
   "id": "f454acec",
   "metadata": {},
   "source": [
    "**Student Name:** Khaled Ahmed"
   ]
  },
  {
   "cell_type": "markdown",
   "id": "1e3577f8",
   "metadata": {},
   "source": [
    "**Student ID:** 3821656"
   ]
  },
  {
   "cell_type": "markdown",
   "id": "e44885cc",
   "metadata": {},
   "source": [
    "**Project Title:** Attendance Monitoring via SMS"
   ]
  },
  {
   "cell_type": "markdown",
   "id": "a1068593",
   "metadata": {},
   "source": [
    "**Course:** BEng Hons Computer Engineering"
   ]
  },
  {
   "cell_type": "markdown",
   "id": "e8acdef2",
   "metadata": {},
   "source": [
    "**Project Supervisor:** Dr Oswaldo Cadenas"
   ]
  },
  {
   "cell_type": "code",
   "execution_count": null,
   "id": "c8591338",
   "metadata": {},
   "outputs": [],
   "source": []
  },
  {
   "cell_type": "code",
   "execution_count": null,
   "id": "0327c670",
   "metadata": {},
   "outputs": [],
   "source": []
  },
  {
   "cell_type": "code",
   "execution_count": null,
   "id": "97d9400a",
   "metadata": {},
   "outputs": [],
   "source": []
  },
  {
   "cell_type": "markdown",
   "id": "d7b8a497",
   "metadata": {},
   "source": [
    "## Introduction\n",
    "This notebook shows how to configure the flask application, implementing the `Attendance monitoring via SMS` project. "
   ]
  },
  {
   "cell_type": "markdown",
   "id": "fc1c56c4",
   "metadata": {},
   "source": [
    "## Objectives\n",
    "-  Import python all libraries and packages\n",
    "-  Set up the paths to the project directories\n",
    "-  Configure a flask application\n",
    "-  Configure falsk-mailing\n",
    "-  Configure flask-login and seesion management \n",
    "-  Define endpoints for flask application"
   ]
  },
  {
   "cell_type": "markdown",
   "id": "2a04a2bc",
   "metadata": {},
   "source": [
    "## Configuartion\n",
    "\n",
    "Make sure you have the required environments and packages configured, as mentioned in the `01a_set_up_the_environments\n",
    "` notebook."
   ]
  },
  {
   "cell_type": "markdown",
   "id": "853f228b",
   "metadata": {},
   "source": [
    "## Import Libraries"
   ]
  },
  {
   "cell_type": "code",
   "execution_count": null,
   "id": "adf81391",
   "metadata": {},
   "outputs": [],
   "source": [
    "import os\n",
    "import re\n",
    "import pathlib\n",
    "import secrets\n",
    "import pandas as pd\n",
    "from typing import Dict, Optional\n",
    "from flask import Flask, request, render_template, redirect, url_for\n",
    "from flask_login import LoginManager, UserMixin, login_user, logout_user, login_required, current_user\n",
    "from bs4 import BeautifulSoup\n",
    "import altair as alt\n",
    "from flask_mail import Mail, Message\n",
    "from dotenv import load_dotenv\n",
    "from datetime import date, datetime\n",
    "from twilio.rest import Client"
   ]
  },
  {
   "cell_type": "markdown",
   "id": "f172b6cd",
   "metadata": {},
   "source": [
    "## Folder Structure\n",
    "```python\n",
    "|-- attendance_monioring_via_sms\n",
    "|   |-- .twilio\n",
    "|   |-- datasets\n",
    "|      |-- *.csv\n",
    "|   |-- docs\n",
    "|      |-- *.md\n",
    "|      |-- *.pdf\n",
    "|   |-- env_vars\n",
    "|      |-- .env.txt\n",
    "|   |-- images\n",
    "|      |-- *.png\n",
    "|   |-- nbs\n",
    "|      |-- *.ipynb \n",
    "|   |-- static\n",
    "|      |- *.css\n",
    "|      |- *.js\n",
    "|   |-- templates\n",
    "|      |- *.html\n",
    "|   |-- app.py\n",
    "|   |-- conda_env_twilio.yml\n",
    "|   |-- requirements.txt\n",
    "\n",
    "```"
   ]
  },
  {
   "cell_type": "markdown",
   "id": "e6931bbd",
   "metadata": {},
   "source": [
    "## Set Paths"
   ]
  },
  {
   "cell_type": "code",
   "execution_count": null,
   "id": "03385e72",
   "metadata": {},
   "outputs": [],
   "source": [
    "# Set paths\n",
    "base_dir = pathlib.Path().absolute().parent\n",
    "\n",
    "# Path to all data directories\n",
    "data = pathlib.Path(base_dir/'datasets')\n",
    "\n",
    "# Path to credentials data\n",
    "credentials = data/'credentials'\n",
    "\n",
    "# Path to raw data\n",
    "raw = data/'raw'\n",
    "\n",
    "# Path to processed data\n",
    "processed = data/'processed'\n",
    "\n",
    "# Path to environment variables\n",
    "env_vars = pathlib.Path(base_dir/'env_vars')"
   ]
  },
  {
   "cell_type": "markdown",
   "id": "af9277b5",
   "metadata": {},
   "source": [
    "## Load Environment Vaiables\n",
    "All the sensitive user information are stored in a `.env.txt` file, which is loaded, using `dotenv`."
   ]
  },
  {
   "cell_type": "code",
   "execution_count": null,
   "id": "cbd75304",
   "metadata": {},
   "outputs": [],
   "source": [
    "# Load dotenv file\n",
    "load_dotenv(env_vars/'.env.txt')"
   ]
  },
  {
   "cell_type": "markdown",
   "id": "20c1f779",
   "metadata": {},
   "source": [
    "## Configure Flask App\n",
    "The flask app has a flask-mail app to send emails, which is configured with an `smtp` based mail testing software/website called, `Mailtrap`. It creats dummy emails, sender and receiver rather than acutally sending the emails but with the same conventions that apply to the real emails. To configure `Mailtrap` with `Flask-Mail` please follow this link: https://mailtrap.io/blog/flask-email-sending/, following free sign-up for `Mailtrap` on their website: https://mailtrap.io/. \n",
    "\n",
    "The flask_login app tracks the login of the users to the application and used for session management and provide the endpoints from unauthorised access by an adversary."
   ]
  },
  {
   "cell_type": "code",
   "execution_count": null,
   "id": "7d573de6",
   "metadata": {},
   "outputs": [],
   "source": [
    "# Flask app\n",
    "app = Flask(__name__)\n",
    "# Configure a secret-key for the flask app\n",
    "app.config[\"SECRET_KEY\"] = secrets.token_hex(24)\n",
    "\n",
    "# Configure flask mail app\n",
    "app.config['MAIL_SERVER'] = 'smtp.mailtrap.io'\n",
    "app.config['MAIL_PORT'] = 2525\n",
    "app.config['MAIL_USERNAME'] = os.environ.get('MAIL_USERNAME')\n",
    "app.config['MAIL_PASSWORD'] = os.environ.get('MAIL_PASSWORD')\n",
    "app.config['MAIL_USE_TLS'] = True\n",
    "app.config['MAIL_USE_SSL'] = False\n",
    "\n",
    "# Create login_manager app\n",
    "login_manager = LoginManager(app)\n",
    "# Create mail app\n",
    "mail = Mail(app)\n",
    "\n",
    "# Create twilio client object\n",
    "account_sid = os.environ.get(\"TWILIO_ACCOUNT_SID\")\n",
    "auth_token = os.environ.get(\"TWILIO_AUTH_TOKEN\")\n",
    "client = Client(account_sid, auth_token)\n",
    "\n",
    "# Define a User class to store all the users from the .csv input files\n",
    "users: Dict[str, \"User\"] = {}\n",
    "\n",
    "class User(UserMixin):\n",
    "    def __init__(self, id: str, username: str, email: str, password: str):\n",
    "        self.id = id\n",
    "        self.username = username\n",
    "        self.email = email\n",
    "        self.password = password\n",
    "\n",
    "    @staticmethod\n",
    "    def get(user_id: str) -> Optional[\"User\"]:\n",
    "        return users.get(user_id)\n",
    "\n",
    "    def __str__(self) -> str:\n",
    "        return f\"<Id: {self.id}, Username: {self.username}, Email: {self.email}>\"\n",
    "\n",
    "    def __repr__(self) -> str:\n",
    "        return self.__str__()\n",
    "\n",
    "data = pd.read_csv(credentials/'login_credentials.csv')\n",
    "for index in data.index:\n",
    "    users[str(index)] = User(\n",
    "        id=index,\n",
    "        username=data.loc[index, \"first_name\"],\n",
    "        email=data.loc[index, \"email\"],\n",
    "        password=data.loc[index, \"password\"],\n",
    "    )\n",
    "\n",
    "###\n",
    "\"\"\"\n",
    "All the endpoints for the application goes here\n",
    "\"\"\"\n",
    "###\n",
    "\n",
    "if __name__ == '__main__':\n",
    "    app.run(debug=True)"
   ]
  },
  {
   "cell_type": "markdown",
   "id": "39f57b99",
   "metadata": {},
   "source": [
    "## Endpoint for Login and Logout"
   ]
  },
  {
   "cell_type": "code",
   "execution_count": null,
   "id": "45873923",
   "metadata": {},
   "outputs": [],
   "source": [
    "# Login endpoint\n",
    "@login_manager.user_loader\n",
    "def load_user(user_id: str) -> Optional[User]:\n",
    "    return User.get(user_id)\n",
    "\n",
    "@login_manager.unauthorized_handler\n",
    "def unauthorized():\n",
    "    return redirect(url_for('login'))\n",
    "\n",
    "@app.route('/', methods=['GET', 'POST'])\n",
    "def login():\n",
    "    error = None\n",
    "    # Load data\n",
    "    df_logins = pd.read_csv(credentials/'login_credentials.csv')\n",
    "    if request.method == 'POST':\n",
    "        if request.is_json:\n",
    "            email = str(request.json['email'])\n",
    "            password = str(request.json['password'])\n",
    "        else:\n",
    "            email = str(request.form['email'])\n",
    "            password = str(request.form['password'])\n",
    "            if email=='':\n",
    "                error='Email Required!'\n",
    "                return render_template('login.html', error=error)\n",
    "            elif password=='':\n",
    "                error='Password Required!'\n",
    "                return render_template('login.html', error=error)\n",
    "        if df_logins.loc[df_logins.email==email, 'password'].empty:\n",
    "            test = False\n",
    "        else:\n",
    "            test = (df_logins.email.isin([email]).any()) and (df_logins.loc[df_logins.email==email, 'password'].astype(str).values[0]==password)\n",
    "\n",
    "        if test: \n",
    "            user_id = df_logins.loc[df_logins.email==email].index[0]\n",
    "            user = User.get(str(user_id))\n",
    "            login_user(user)\n",
    "            \n",
    "            return redirect(url_for('home'))\n",
    "        else:\n",
    "            error = 'Invalid Credentials. Please try again. If you do not have an account, please create an account first then try logging in.'\n",
    "    return render_template('login.html', error=error)\n",
    "\n",
    "# Endpoint for logout\n",
    "@app.route(\"/logout\")\n",
    "@login_required\n",
    "def logout():\n",
    "    logout_user()\n",
    "    return redirect(url_for(\"login\"))"
   ]
  },
  {
   "cell_type": "markdown",
   "id": "e6e0f7c9",
   "metadata": {},
   "source": [
    "## Endpoint for Registration to he App"
   ]
  },
  {
   "cell_type": "code",
   "execution_count": null,
   "id": "9c455ad2",
   "metadata": {},
   "outputs": [],
   "source": [
    "# Register endpoint\n",
    "@app.route('/register', methods=['GET', 'POST'])\n",
    "def register():\n",
    "    message = None\n",
    "    # Load Data\n",
    "    df_logins = pd.read_csv(credentials/'login_credentials.csv')\n",
    "    df_admins = pd.read_csv(credentials/'admins.csv')\n",
    "    if request.method == 'POST':\n",
    "        email = str(request.form['email'])\n",
    "        test = df_logins.email.isin([email]).any()\n",
    "        if test:\n",
    "            message = 'This email already exists. Please click \\'Forgotten Password\\'.'\n",
    "            return render_template('register.html', message=message)\n",
    "        elif request.form['first_name'] == '':\n",
    "            message = 'First Name is required!'\n",
    "            return render_template('register.html', message=message)\n",
    "        elif request.form['last_name'] == '':\n",
    "            message = 'Last Name is required!'\n",
    "            return render_template('register.html', message=message)\n",
    "        elif request.form['email'] == '':\n",
    "            message = 'Email is required!'\n",
    "            return render_template('register.html', message=message)\n",
    "        elif request.form['password'] == '':\n",
    "            message = 'Password is required!'\n",
    "            return render_template('register.html', message=message)\n",
    "        elif request.form['password'] != request.form['confirm_password']:\n",
    "            message = 'Password should match!'\n",
    "            return render_template('register.html', message=message)\n",
    "        elif df_admins.email.isin([str(request.form['email'])]).any()==False:\n",
    "            message = 'Email not allowed! Please make sure the email entered is in the admin list or contact the administrator!'\n",
    "            return render_template('register.html', message=message)\n",
    "        else:\n",
    "            first_name = request.form['first_name']\n",
    "            last_name = request.form['last_name']\n",
    "            password = request.form['password']\n",
    "            \n",
    "            df = df_logins.append({'first_name': first_name, 'last_name': last_name, 'email': email, 'password': password}, ignore_index=True)\n",
    "            df.to_csv(credentials/'login_credentials.csv', index=False)\n",
    "            message = \"User created successfully. Please go back to log in.\"\n",
    "            return render_template('register.html', message=message)\n",
    "    return render_template('register.html')"
   ]
  },
  {
   "cell_type": "markdown",
   "id": "a155eb11",
   "metadata": {},
   "source": [
    "## Endpoint for Retrieving Password"
   ]
  },
  {
   "cell_type": "code",
   "execution_count": null,
   "id": "3cb67125",
   "metadata": {},
   "outputs": [],
   "source": [
    "# Endpoint for retrivieng password\n",
    "@app.route('/retpass', methods=['GET', 'POST'])\n",
    "def retpass():\n",
    "    message = None\n",
    "    # Load data\n",
    "    df_logins = pd.read_csv(credentials/'login_credentials.csv')\n",
    "    if request.method == 'POST':\n",
    "        email = request.form['email']\n",
    "        user = df_logins.email.isin([str(email)]).any()\n",
    "        if user:\n",
    "            msg = Message(\"Your Password Retrieval Requst..\",\n",
    "                          sender=\"admin@attendance.lsbu.ac.uk\", recipients=[email])\n",
    "            msg.body = \"Hi,\\n\\nThanks for your password retirval request!\\n\\nYour password is: \" +\\\n",
    "                df_logins.loc[df_logins.email==email, 'password'].astype(str).values[0] + \"\\n\\nThanks for using our service.\\n\\nRegards,\\nAdmin Team\"\n",
    "            mail.send(msg)\n",
    "            message = \"Password sent to \" + email\n",
    "            return render_template('retpass.html', message=message)\n",
    "        elif request.form['email'] == '':\n",
    "            message = 'Email is required!'\n",
    "            return render_template('retpass.html', message=message)\n",
    "        else:\n",
    "            message = \"This email doesn't exist. Please create an account.\"\n",
    "            return render_template('retpass.html', message=message)\n",
    "    return render_template('retpass.html')"
   ]
  },
  {
   "cell_type": "markdown",
   "id": "10d48e05",
   "metadata": {},
   "source": [
    "## Endpoint for Home Page"
   ]
  },
  {
   "cell_type": "code",
   "execution_count": null,
   "id": "8883d7e2",
   "metadata": {},
   "outputs": [],
   "source": [
    "# Endpoint for home\n",
    "@app.route('/home')\n",
    "@login_required\n",
    "def home():\n",
    "    user_name = current_user.username\n",
    "    df = pd.read_csv(processed/'weekly_attendance.csv')\n",
    "    df.course_code = df.course_code.astype(str)\n",
    "    df.academic_semester = df.academic_semester.astype(str)\n",
    "\n",
    "    rect = alt.Chart(df).mark_rect().encode(\n",
    "        alt.X('course_code', bin=False, title='Course Code'),\n",
    "        alt.Y('total_attendees', bin=False, title='Total Attendance (Weekly)'),\n",
    "        alt.Color('total_attendees',\n",
    "                scale=alt.Scale(scheme='greenblue'),\n",
    "                legend=alt.Legend(title='Total Attendees')\n",
    "                )\n",
    "    ).properties(height=500, width=578, title='Total Attendees (Weekly) by Course')\n",
    "\n",
    "    circ = rect.mark_point().encode(\n",
    "        alt.ColorValue('grey'),\n",
    "        alt.Size('total_attendees',\n",
    "                legend=alt.Legend(title='Total Attendees')\n",
    "                ))\n",
    "\n",
    "    chart1 = alt.vconcat(\n",
    "        rect + circ\n",
    "    ).resolve_legend(\n",
    "        color=\"independent\",\n",
    "        size=\"independent\"\n",
    "    )\n",
    "\n",
    "    chart2 = alt.Chart(df).mark_circle(size=200).encode(\n",
    "        x=alt.X('course_code', title='Course Code'),\n",
    "        y=alt.Y('total_attendees', title='Total Attendance (Weekly)'),\n",
    "        color=alt.Color('academic_semester', title='Semester'),\n",
    "        tooltip=['course_code', 'course_name', 'month', 'year', 'academic_semester', 'academic_week', 'total_attendees']\n",
    "    ).interactive().properties(height=500,\n",
    "                            width=578, title='Total Attendees (Weekly) by Course')\n",
    "\n",
    "    (chart1 | chart2).save('templates/charts.html')\n",
    "\n",
    "    altair_bs = BeautifulSoup(\n",
    "        open('templates/charts.html').read(), 'html.parser')\n",
    "\n",
    "    altair_script = altair_bs.find_all('script')[-1].contents[0]\n",
    "\n",
    "    chart_id = altair_bs.find('body').div['id']\n",
    "\n",
    "    with open('static/plots.js', 'w')as f:\n",
    "        f.write(altair_script)\n",
    "        f.close()\n",
    "\n",
    "    return render_template('home.html', chart_id=chart_id, user_name=user_name)"
   ]
  },
  {
   "cell_type": "markdown",
   "id": "ecf9674f",
   "metadata": {},
   "source": [
    "## Endpoint for About and Contact Page"
   ]
  },
  {
   "cell_type": "code",
   "execution_count": null,
   "id": "480bf677",
   "metadata": {},
   "outputs": [],
   "source": [
    "# Endpoint for about\n",
    "@app.route('/about')\n",
    "@login_required\n",
    "def about():\n",
    "    return render_template('about.html')\n",
    "\n",
    "# Endpoint for contact\n",
    "@app.route('/contact')\n",
    "@login_required\n",
    "def contact():\n",
    "    return render_template('contact.html')"
   ]
  },
  {
   "cell_type": "markdown",
   "id": "f0b6566c",
   "metadata": {},
   "source": [
    "## Endpoint for Showing Data in Tables"
   ]
  },
  {
   "cell_type": "code",
   "execution_count": null,
   "id": "674e75df",
   "metadata": {},
   "outputs": [],
   "source": [
    "# Endpoint for Student Table\n",
    "@app.route('/table1', methods=['GET'])\n",
    "@login_required\n",
    "def table1():  \n",
    "    df = pd.read_csv(credentials/'students.csv').dropna()\n",
    "    \n",
    "    headings = df.columns.values\n",
    "    headings = tuple(headings)\n",
    "\n",
    "    data = df.to_records(index=False)\n",
    "    data = tuple(data)\n",
    "    return render_template('table1.html', headings=headings, data=data)\n",
    "\n",
    "\n",
    "# Endpoint for Admin Table\n",
    "@app.route('/table2', methods=['GET'])\n",
    "@login_required\n",
    "def table2():  # put application's code here\n",
    "\n",
    "    df = pd.read_csv(credentials/'admins.csv').dropna()\n",
    "\n",
    "    headings = df.columns.values\n",
    "    headings = tuple(headings)\n",
    "\n",
    "    data = df.to_records(index=False)\n",
    "    data = tuple(data)\n",
    "    return render_template('table2.html', headings=headings, data=data)\n",
    "\n",
    "# Endpoint for Course Table\n",
    "@app.route('/table3', methods=['GET'])\n",
    "@login_required\n",
    "def table3():  # put application's code here\n",
    "\n",
    "    df = pd.read_csv(credentials/'courses.csv').dropna()\n",
    "\n",
    "    headings = df.columns.values\n",
    "    headings = tuple(headings)\n",
    "\n",
    "    data = df.to_records(index=False)\n",
    "    data = tuple(data)\n",
    "    return render_template('table3.html', headings=headings, data=data)\n",
    "\n",
    "# Endpoint for Timetable Table\n",
    "@app.route('/table4', methods=['GET'])\n",
    "@login_required\n",
    "def table4():  # put application's code here\n",
    "\n",
    "    df = pd.read_csv(credentials/'timetable.csv').dropna()\n",
    "\n",
    "    headings = df.columns.values\n",
    "    headings = tuple(headings)\n",
    "\n",
    "    data = df.to_records(index=False)\n",
    "    data = tuple(data)\n",
    "    return render_template('table4.html', headings=headings, data=data)\n",
    "\n",
    "# Endpoint for Attendance Statistics Table\n",
    "@app.route('/table5', methods=['GET'])\n",
    "@login_required\n",
    "def table5():  # put application's code here\n",
    "\n",
    "    df = pd.read_csv(processed/'weekly_attendance.csv').dropna()\n",
    "\n",
    "    headings = df.columns.values\n",
    "    headings = tuple(headings)\n",
    "\n",
    "    data = df.to_records(index=False)\n",
    "    data = tuple(data)\n",
    "    return render_template('table5.html', headings=headings, data=data)"
   ]
  },
  {
   "cell_type": "markdown",
   "id": "324dd8c9",
   "metadata": {},
   "source": [
    "The other endpoints are discussed in the later notebooks, which involves some data engineering steps to process, extract, and generate datasets, using various techniques."
   ]
  },
  {
   "cell_type": "markdown",
   "id": "c60a0899",
   "metadata": {},
   "source": [
    "### Summary\n",
    "In this notebook it was demonstrated how to:\n",
    "-  Import python all libraries and packages\n",
    "-  Set up the paths to the project directories\n",
    "-  Configure a flask application\n",
    "-  Configure falsk-mailing\n",
    "-  Configure flask-login and seesion management \n",
    "-  Define endpoints for flask application"
   ]
  },
  {
   "cell_type": "markdown",
   "id": "3338fb6f",
   "metadata": {},
   "source": [
    "<center><b>Author</b></center>\n",
    "\n",
    "| Name | Date Created | Last Modified |\n",
    "|------|--------------|---------------|\n",
    "|Khaled Ahmed | 30/01/2023 | 30/01/2023|"
   ]
  }
 ],
 "metadata": {
  "kernelspec": {
   "display_name": "Python 3 (ipykernel)",
   "language": "python",
   "name": "python3"
  },
  "language_info": {
   "codemirror_mode": {
    "name": "ipython",
    "version": 3
   },
   "file_extension": ".py",
   "mimetype": "text/x-python",
   "name": "python",
   "nbconvert_exporter": "python",
   "pygments_lexer": "ipython3",
   "version": "3.7.13"
  },
  "vscode": {
   "interpreter": {
    "hash": "8772fee82389021f9a06d07f6d962e66f66440103d20066f1d4e1f6e0bed6b66"
   }
  }
 },
 "nbformat": 4,
 "nbformat_minor": 5
}
