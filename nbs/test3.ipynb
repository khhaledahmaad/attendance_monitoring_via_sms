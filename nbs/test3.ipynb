{
 "cells": [
  {
   "cell_type": "code",
   "execution_count": 1,
   "id": "7e368e6f",
   "metadata": {},
   "outputs": [],
   "source": [
    "# Import libraries\n",
    "import os\n",
    "import pathlib\n",
    "from dotenv import load_dotenv\n",
    "import pandas as pd\n",
    "from datetime import datetime\n",
    "from twilio.rest import Client"
   ]
  },
  {
   "cell_type": "code",
   "execution_count": 2,
   "id": "07580ed5",
   "metadata": {},
   "outputs": [],
   "source": [
    "# Set paths\n",
    "base_dir = pathlib.Path(r'C:\\Users\\ahmedk40\\OneDrive - London South Bank University\\Final Year\\BEng Project\\attendance_monitoring_via_sms')\n",
    "\n",
    "# Path to all data directories\n",
    "data = base_dir/'datasets'\n",
    "\n",
    "# Path to credentials data\n",
    "credentials = data/'credentials'\n",
    "\n",
    "# Path to state data\n",
    "state = data/'state'\n",
    "\n",
    "# Path to raw data\n",
    "raw = data/'raw'\n",
    "\n",
    "# Path to processed data\n",
    "processed = data/'processed'\n",
    "\n",
    "# Path to environment variables\n",
    "env_vars = pathlib.Path(base_dir/'env_vars')"
   ]
  },
  {
   "cell_type": "code",
   "execution_count": 3,
   "id": "87d5d341",
   "metadata": {},
   "outputs": [],
   "source": [
    "df_course = pd.read_csv(credentials/'courses.csv')"
   ]
  },
  {
   "cell_type": "code",
   "execution_count": 4,
   "id": "f8fa5c86",
   "metadata": {},
   "outputs": [
    {
     "data": {
      "text/html": [
       "<div>\n",
       "<style scoped>\n",
       "    .dataframe tbody tr th:only-of-type {\n",
       "        vertical-align: middle;\n",
       "    }\n",
       "\n",
       "    .dataframe tbody tr th {\n",
       "        vertical-align: top;\n",
       "    }\n",
       "\n",
       "    .dataframe thead th {\n",
       "        text-align: right;\n",
       "    }\n",
       "</style>\n",
       "<table border=\"1\" class=\"dataframe\">\n",
       "  <thead>\n",
       "    <tr style=\"text-align: right;\">\n",
       "      <th></th>\n",
       "      <th>id</th>\n",
       "      <th>course_name</th>\n",
       "      <th>course_code</th>\n",
       "      <th>tutor</th>\n",
       "      <th>email</th>\n",
       "      <th>teaching_day</th>\n",
       "      <th>start_time</th>\n",
       "      <th>end_time</th>\n",
       "    </tr>\n",
       "  </thead>\n",
       "  <tbody>\n",
       "    <tr>\n",
       "      <th>0</th>\n",
       "      <td>1</td>\n",
       "      <td>Engineering Mathematics and Modelling</td>\n",
       "      <td>101</td>\n",
       "      <td>Jon Selig</td>\n",
       "      <td>seligjm@lsbu.ac.uk</td>\n",
       "      <td>Monday</td>\n",
       "      <td>09:00</td>\n",
       "      <td>11:00</td>\n",
       "    </tr>\n",
       "    <tr>\n",
       "      <th>1</th>\n",
       "      <td>2</td>\n",
       "      <td>Digital Logic Design</td>\n",
       "      <td>102</td>\n",
       "      <td>Oswaldo Cadenas</td>\n",
       "      <td>cadenaso@lsbu.ac.uk</td>\n",
       "      <td>Tuesday</td>\n",
       "      <td>10:00</td>\n",
       "      <td>12:00</td>\n",
       "    </tr>\n",
       "    <tr>\n",
       "      <th>2</th>\n",
       "      <td>3</td>\n",
       "      <td>Cybersecurity and Cryptography</td>\n",
       "      <td>103</td>\n",
       "      <td>Stavros Dimitriou</td>\n",
       "      <td>dimitrsa@lsbu.ac.uk</td>\n",
       "      <td>Wednesday</td>\n",
       "      <td>11:00</td>\n",
       "      <td>13:00</td>\n",
       "    </tr>\n",
       "    <tr>\n",
       "      <th>3</th>\n",
       "      <td>4</td>\n",
       "      <td>Final Year Project</td>\n",
       "      <td>104</td>\n",
       "      <td>Fang Duan</td>\n",
       "      <td>duanf@lsbu.ac.uk</td>\n",
       "      <td>Thursday</td>\n",
       "      <td>12:00</td>\n",
       "      <td>14:00</td>\n",
       "    </tr>\n",
       "    <tr>\n",
       "      <th>4</th>\n",
       "      <td>5</td>\n",
       "      <td>Computer Systems and Software Engineering</td>\n",
       "      <td>105</td>\n",
       "      <td>Ya Bao</td>\n",
       "      <td>baoyb@lsbu.ac.uk</td>\n",
       "      <td>Friday</td>\n",
       "      <td>13:00</td>\n",
       "      <td>15:00</td>\n",
       "    </tr>\n",
       "    <tr>\n",
       "      <th>5</th>\n",
       "      <td>6</td>\n",
       "      <td>Desging and Practice</td>\n",
       "      <td>106</td>\n",
       "      <td>Alessio Corso</td>\n",
       "      <td>corsoa@lsbu.ac.uk</td>\n",
       "      <td>Monday</td>\n",
       "      <td>14:00</td>\n",
       "      <td>16:00</td>\n",
       "    </tr>\n",
       "    <tr>\n",
       "      <th>6</th>\n",
       "      <td>7</td>\n",
       "      <td>Engineering Computing</td>\n",
       "      <td>107</td>\n",
       "      <td>Perry Xiao</td>\n",
       "      <td>perry.xiao@lsbu.ac.uk</td>\n",
       "      <td>Tuesday</td>\n",
       "      <td>15:00</td>\n",
       "      <td>17:00</td>\n",
       "    </tr>\n",
       "    <tr>\n",
       "      <th>7</th>\n",
       "      <td>8</td>\n",
       "      <td>Engineering Principles</td>\n",
       "      <td>108</td>\n",
       "      <td>Steve Faulkner</td>\n",
       "      <td>steve.faulkner@lsbu.ac.uk</td>\n",
       "      <td>Monday</td>\n",
       "      <td>16:00</td>\n",
       "      <td>18:00</td>\n",
       "    </tr>\n",
       "    <tr>\n",
       "      <th>8</th>\n",
       "      <td>9</td>\n",
       "      <td>Innovation and Enterprise</td>\n",
       "      <td>109</td>\n",
       "      <td>Barney Townsend</td>\n",
       "      <td>barney.townsend@lsbu.ac.uk</td>\n",
       "      <td>Tuesday</td>\n",
       "      <td>17:00</td>\n",
       "      <td>19:00</td>\n",
       "    </tr>\n",
       "    <tr>\n",
       "      <th>9</th>\n",
       "      <td>10</td>\n",
       "      <td>Computer Networks</td>\n",
       "      <td>110</td>\n",
       "      <td>Zhanfang Zhao</td>\n",
       "      <td>zhanfang.zhao@lsbu.ac.uk</td>\n",
       "      <td>Wednesday</td>\n",
       "      <td>18:00</td>\n",
       "      <td>20:00</td>\n",
       "    </tr>\n",
       "  </tbody>\n",
       "</table>\n",
       "</div>"
      ],
      "text/plain": [
       "   id                                course_name  course_code  \\\n",
       "0   1      Engineering Mathematics and Modelling          101   \n",
       "1   2                       Digital Logic Design          102   \n",
       "2   3             Cybersecurity and Cryptography          103   \n",
       "3   4                         Final Year Project          104   \n",
       "4   5  Computer Systems and Software Engineering          105   \n",
       "5   6                       Desging and Practice          106   \n",
       "6   7                      Engineering Computing          107   \n",
       "7   8                     Engineering Principles          108   \n",
       "8   9                  Innovation and Enterprise          109   \n",
       "9  10                          Computer Networks          110   \n",
       "\n",
       "               tutor                       email teaching_day start_time  \\\n",
       "0          Jon Selig          seligjm@lsbu.ac.uk       Monday      09:00   \n",
       "1    Oswaldo Cadenas         cadenaso@lsbu.ac.uk      Tuesday      10:00   \n",
       "2  Stavros Dimitriou         dimitrsa@lsbu.ac.uk    Wednesday      11:00   \n",
       "3          Fang Duan            duanf@lsbu.ac.uk     Thursday      12:00   \n",
       "4             Ya Bao            baoyb@lsbu.ac.uk       Friday      13:00   \n",
       "5      Alessio Corso           corsoa@lsbu.ac.uk       Monday      14:00   \n",
       "6         Perry Xiao       perry.xiao@lsbu.ac.uk      Tuesday      15:00   \n",
       "7     Steve Faulkner   steve.faulkner@lsbu.ac.uk       Monday      16:00   \n",
       "8    Barney Townsend  barney.townsend@lsbu.ac.uk      Tuesday      17:00   \n",
       "9      Zhanfang Zhao    zhanfang.zhao@lsbu.ac.uk    Wednesday      18:00   \n",
       "\n",
       "  end_time  \n",
       "0    11:00  \n",
       "1    12:00  \n",
       "2    13:00  \n",
       "3    14:00  \n",
       "4    15:00  \n",
       "5    16:00  \n",
       "6    17:00  \n",
       "7    18:00  \n",
       "8    19:00  \n",
       "9    20:00  "
      ]
     },
     "execution_count": 4,
     "metadata": {},
     "output_type": "execute_result"
    }
   ],
   "source": [
    "df_course"
   ]
  },
  {
   "cell_type": "code",
   "execution_count": 6,
   "id": "85efebc4",
   "metadata": {},
   "outputs": [
    {
     "data": {
      "text/plain": [
       "'Engineering Mathematics and Modelling'"
      ]
     },
     "execution_count": 6,
     "metadata": {},
     "output_type": "execute_result"
    }
   ],
   "source": [
    "course_name = df_course.course_name[0]\n",
    "course_name"
   ]
  },
  {
   "cell_type": "code",
   "execution_count": 9,
   "id": "962c4692",
   "metadata": {},
   "outputs": [
    {
     "data": {
      "text/plain": [
       "0"
      ]
     },
     "execution_count": 9,
     "metadata": {},
     "output_type": "execute_result"
    }
   ],
   "source": [
    "df_course.loc[df_course.course_name==course_name].index.values[0]"
   ]
  },
  {
   "cell_type": "code",
   "execution_count": 11,
   "id": "6e9c4315",
   "metadata": {},
   "outputs": [],
   "source": [
    "df_course.loc[0, 'teaching_day'] = 'Tuesday'"
   ]
  },
  {
   "cell_type": "code",
   "execution_count": 13,
   "id": "f10c4a73",
   "metadata": {},
   "outputs": [
    {
     "data": {
      "text/html": [
       "<div>\n",
       "<style scoped>\n",
       "    .dataframe tbody tr th:only-of-type {\n",
       "        vertical-align: middle;\n",
       "    }\n",
       "\n",
       "    .dataframe tbody tr th {\n",
       "        vertical-align: top;\n",
       "    }\n",
       "\n",
       "    .dataframe thead th {\n",
       "        text-align: right;\n",
       "    }\n",
       "</style>\n",
       "<table border=\"1\" class=\"dataframe\">\n",
       "  <thead>\n",
       "    <tr style=\"text-align: right;\">\n",
       "      <th></th>\n",
       "      <th>id</th>\n",
       "      <th>course_name</th>\n",
       "      <th>course_code</th>\n",
       "      <th>tutor</th>\n",
       "      <th>email</th>\n",
       "      <th>teaching_day</th>\n",
       "      <th>start_time</th>\n",
       "      <th>end_time</th>\n",
       "    </tr>\n",
       "  </thead>\n",
       "  <tbody>\n",
       "    <tr>\n",
       "      <th>0</th>\n",
       "      <td>1</td>\n",
       "      <td>Engineering Mathematics and Modelling</td>\n",
       "      <td>101</td>\n",
       "      <td>Jon Selig</td>\n",
       "      <td>seligjm@lsbu.ac.uk</td>\n",
       "      <td>Tuesday</td>\n",
       "      <td>09:00</td>\n",
       "      <td>11:00</td>\n",
       "    </tr>\n",
       "    <tr>\n",
       "      <th>1</th>\n",
       "      <td>2</td>\n",
       "      <td>Digital Logic Design</td>\n",
       "      <td>102</td>\n",
       "      <td>Oswaldo Cadenas</td>\n",
       "      <td>cadenaso@lsbu.ac.uk</td>\n",
       "      <td>Tuesday</td>\n",
       "      <td>10:00</td>\n",
       "      <td>12:00</td>\n",
       "    </tr>\n",
       "    <tr>\n",
       "      <th>2</th>\n",
       "      <td>3</td>\n",
       "      <td>Cybersecurity and Cryptography</td>\n",
       "      <td>103</td>\n",
       "      <td>Stavros Dimitriou</td>\n",
       "      <td>dimitrsa@lsbu.ac.uk</td>\n",
       "      <td>Wednesday</td>\n",
       "      <td>11:00</td>\n",
       "      <td>13:00</td>\n",
       "    </tr>\n",
       "    <tr>\n",
       "      <th>3</th>\n",
       "      <td>4</td>\n",
       "      <td>Final Year Project</td>\n",
       "      <td>104</td>\n",
       "      <td>Fang Duan</td>\n",
       "      <td>duanf@lsbu.ac.uk</td>\n",
       "      <td>Thursday</td>\n",
       "      <td>12:00</td>\n",
       "      <td>14:00</td>\n",
       "    </tr>\n",
       "    <tr>\n",
       "      <th>4</th>\n",
       "      <td>5</td>\n",
       "      <td>Computer Systems and Software Engineering</td>\n",
       "      <td>105</td>\n",
       "      <td>Ya Bao</td>\n",
       "      <td>baoyb@lsbu.ac.uk</td>\n",
       "      <td>Friday</td>\n",
       "      <td>13:00</td>\n",
       "      <td>15:00</td>\n",
       "    </tr>\n",
       "    <tr>\n",
       "      <th>5</th>\n",
       "      <td>6</td>\n",
       "      <td>Desging and Practice</td>\n",
       "      <td>106</td>\n",
       "      <td>Alessio Corso</td>\n",
       "      <td>corsoa@lsbu.ac.uk</td>\n",
       "      <td>Monday</td>\n",
       "      <td>14:00</td>\n",
       "      <td>16:00</td>\n",
       "    </tr>\n",
       "    <tr>\n",
       "      <th>6</th>\n",
       "      <td>7</td>\n",
       "      <td>Engineering Computing</td>\n",
       "      <td>107</td>\n",
       "      <td>Perry Xiao</td>\n",
       "      <td>perry.xiao@lsbu.ac.uk</td>\n",
       "      <td>Tuesday</td>\n",
       "      <td>15:00</td>\n",
       "      <td>17:00</td>\n",
       "    </tr>\n",
       "    <tr>\n",
       "      <th>7</th>\n",
       "      <td>8</td>\n",
       "      <td>Engineering Principles</td>\n",
       "      <td>108</td>\n",
       "      <td>Steve Faulkner</td>\n",
       "      <td>steve.faulkner@lsbu.ac.uk</td>\n",
       "      <td>Monday</td>\n",
       "      <td>16:00</td>\n",
       "      <td>18:00</td>\n",
       "    </tr>\n",
       "    <tr>\n",
       "      <th>8</th>\n",
       "      <td>9</td>\n",
       "      <td>Innovation and Enterprise</td>\n",
       "      <td>109</td>\n",
       "      <td>Barney Townsend</td>\n",
       "      <td>barney.townsend@lsbu.ac.uk</td>\n",
       "      <td>Tuesday</td>\n",
       "      <td>17:00</td>\n",
       "      <td>19:00</td>\n",
       "    </tr>\n",
       "    <tr>\n",
       "      <th>9</th>\n",
       "      <td>10</td>\n",
       "      <td>Computer Networks</td>\n",
       "      <td>110</td>\n",
       "      <td>Zhanfang Zhao</td>\n",
       "      <td>zhanfang.zhao@lsbu.ac.uk</td>\n",
       "      <td>Wednesday</td>\n",
       "      <td>18:00</td>\n",
       "      <td>20:00</td>\n",
       "    </tr>\n",
       "  </tbody>\n",
       "</table>\n",
       "</div>"
      ],
      "text/plain": [
       "   id                                course_name  course_code  \\\n",
       "0   1      Engineering Mathematics and Modelling          101   \n",
       "1   2                       Digital Logic Design          102   \n",
       "2   3             Cybersecurity and Cryptography          103   \n",
       "3   4                         Final Year Project          104   \n",
       "4   5  Computer Systems and Software Engineering          105   \n",
       "5   6                       Desging and Practice          106   \n",
       "6   7                      Engineering Computing          107   \n",
       "7   8                     Engineering Principles          108   \n",
       "8   9                  Innovation and Enterprise          109   \n",
       "9  10                          Computer Networks          110   \n",
       "\n",
       "               tutor                       email teaching_day start_time  \\\n",
       "0          Jon Selig          seligjm@lsbu.ac.uk      Tuesday      09:00   \n",
       "1    Oswaldo Cadenas         cadenaso@lsbu.ac.uk      Tuesday      10:00   \n",
       "2  Stavros Dimitriou         dimitrsa@lsbu.ac.uk    Wednesday      11:00   \n",
       "3          Fang Duan            duanf@lsbu.ac.uk     Thursday      12:00   \n",
       "4             Ya Bao            baoyb@lsbu.ac.uk       Friday      13:00   \n",
       "5      Alessio Corso           corsoa@lsbu.ac.uk       Monday      14:00   \n",
       "6         Perry Xiao       perry.xiao@lsbu.ac.uk      Tuesday      15:00   \n",
       "7     Steve Faulkner   steve.faulkner@lsbu.ac.uk       Monday      16:00   \n",
       "8    Barney Townsend  barney.townsend@lsbu.ac.uk      Tuesday      17:00   \n",
       "9      Zhanfang Zhao    zhanfang.zhao@lsbu.ac.uk    Wednesday      18:00   \n",
       "\n",
       "  end_time  \n",
       "0    11:00  \n",
       "1    12:00  \n",
       "2    13:00  \n",
       "3    14:00  \n",
       "4    15:00  \n",
       "5    16:00  \n",
       "6    17:00  \n",
       "7    18:00  \n",
       "8    19:00  \n",
       "9    20:00  "
      ]
     },
     "execution_count": 13,
     "metadata": {},
     "output_type": "execute_result"
    }
   ],
   "source": [
    "df_course"
   ]
  },
  {
   "cell_type": "code",
   "execution_count": 14,
   "id": "ded6e80c",
   "metadata": {},
   "outputs": [],
   "source": [
    "duration = 2\n",
    "start_time = df_course.loc[0, 'start_time']"
   ]
  },
  {
   "cell_type": "code",
   "execution_count": 16,
   "id": "037432d0",
   "metadata": {},
   "outputs": [
    {
     "data": {
      "text/plain": [
       "'11:00'"
      ]
     },
     "execution_count": 16,
     "metadata": {},
     "output_type": "execute_result"
    }
   ],
   "source": [
    "(pd.to_datetime(pd.Series([f'{start_time}'])) + pd.Timedelta(f\"{duration} hour\")).dt.strftime('%H:%M').squeeze()"
   ]
  },
  {
   "cell_type": "code",
   "execution_count": 23,
   "id": "ae07796c",
   "metadata": {},
   "outputs": [
    {
     "data": {
      "text/plain": [
       "['09:00',\n",
       " '10:00',\n",
       " '11:00',\n",
       " '12:00',\n",
       " '13:00',\n",
       " '14:00',\n",
       " '15:00',\n",
       " '16:00',\n",
       " '17:00',\n",
       " '18:00']"
      ]
     },
     "execution_count": 23,
     "metadata": {},
     "output_type": "execute_result"
    }
   ],
   "source": [
    "[f'{i:02d}:{0:02d}' for i in range(9,19)]"
   ]
  },
  {
   "cell_type": "code",
   "execution_count": 25,
   "id": "1c33bdaa",
   "metadata": {},
   "outputs": [
    {
     "data": {
      "text/plain": [
       "True"
      ]
     },
     "execution_count": 25,
     "metadata": {},
     "output_type": "execute_result"
    }
   ],
   "source": [
    "[f'{i:02d}:{0:02d}' for i in range(9,19)] == df_course.start_time.tolist()"
   ]
  },
  {
   "cell_type": "code",
   "execution_count": 24,
   "id": "e8b2e242",
   "metadata": {},
   "outputs": [
    {
     "data": {
      "text/plain": [
       "['09:00',\n",
       " '10:00',\n",
       " '11:00',\n",
       " '12:00',\n",
       " '13:00',\n",
       " '14:00',\n",
       " '15:00',\n",
       " '16:00',\n",
       " '17:00',\n",
       " '18:00']"
      ]
     },
     "execution_count": 24,
     "metadata": {},
     "output_type": "execute_result"
    }
   ],
   "source": [
    "df_course.start_time.tolist()"
   ]
  },
  {
   "cell_type": "code",
   "execution_count": 35,
   "id": "d5ccf979",
   "metadata": {},
   "outputs": [
    {
     "data": {
      "text/plain": [
       "True"
      ]
     },
     "execution_count": 35,
     "metadata": {},
     "output_type": "execute_result"
    }
   ],
   "source": [
    "set(df_course.teaching_day.unique().tolist()) == set(['Monday', 'Tuesday', 'Wednesday', 'Thursday', 'Friday'])"
   ]
  },
  {
   "cell_type": "code",
   "execution_count": 34,
   "id": "f5028764",
   "metadata": {},
   "outputs": [
    {
     "data": {
      "text/plain": [
       "{'Friday', 'Monday', 'Thursday', 'Tuesday', 'Wednesday'}"
      ]
     },
     "execution_count": 34,
     "metadata": {},
     "output_type": "execute_result"
    }
   ],
   "source": [
    "set(['Monday', 'Tuesday', 'Wednesday', 'Thursday', 'Friday'])"
   ]
  },
  {
   "cell_type": "code",
   "execution_count": 2,
   "id": "fe746acf",
   "metadata": {},
   "outputs": [
    {
     "data": {
      "text/plain": [
       "DatetimeIndex(['2023-01-01', '2023-01-08', '2023-01-15', '2023-01-22',\n",
       "               '2023-01-29'],\n",
       "              dtype='datetime64[ns]', freq='W-SUN')"
      ]
     },
     "execution_count": 2,
     "metadata": {},
     "output_type": "execute_result"
    }
   ],
   "source": [
    "ts = pd.date_range(start='1/1/2023', end='31/1/2023', freq='W')\n",
    "ts"
   ]
  },
  {
   "cell_type": "code",
   "execution_count": null,
   "id": "097a17f9",
   "metadata": {},
   "outputs": [],
   "source": [
    "ts"
   ]
  },
  {
   "cell_type": "code",
   "execution_count": 3,
   "id": "338c2a29",
   "metadata": {},
   "outputs": [
    {
     "data": {
      "text/plain": [
       "PeriodIndex(['2022-12-26/2023-01-01', '2023-01-02/2023-01-08',\n",
       "             '2023-01-09/2023-01-15', '2023-01-16/2023-01-22',\n",
       "             '2023-01-23/2023-01-29', '2023-01-30/2023-02-05'],\n",
       "            dtype='period[W-SUN]')"
      ]
     },
     "execution_count": 3,
     "metadata": {},
     "output_type": "execute_result"
    }
   ],
   "source": [
    "ts1 = pd.period_range(start='1/1/2023', end='31/1/2023', freq='W')\n",
    "ts1"
   ]
  },
  {
   "cell_type": "code",
   "execution_count": 6,
   "id": "dd98b027",
   "metadata": {},
   "outputs": [],
   "source": [
    "df = pd.read_csv(processed/'attendance'/'103_semester_2_week_1_attendance.csv')"
   ]
  },
  {
   "cell_type": "code",
   "execution_count": 7,
   "id": "9a046b43",
   "metadata": {},
   "outputs": [
    {
     "data": {
      "text/plain": [
       "from             int64\n",
       "student_id       int64\n",
       "student_name    object\n",
       "message         object\n",
       "date_sent       object\n",
       "dtype: object"
      ]
     },
     "execution_count": 7,
     "metadata": {},
     "output_type": "execute_result"
    }
   ],
   "source": [
    "df.dtypes"
   ]
  },
  {
   "cell_type": "code",
   "execution_count": null,
   "id": "13ea6271",
   "metadata": {},
   "outputs": [],
   "source": []
  }
 ],
 "metadata": {
  "kernelspec": {
   "display_name": "twilio",
   "language": "python",
   "name": "twilio"
  },
  "language_info": {
   "codemirror_mode": {
    "name": "ipython",
    "version": 3
   },
   "file_extension": ".py",
   "mimetype": "text/x-python",
   "name": "python",
   "nbconvert_exporter": "python",
   "pygments_lexer": "ipython3",
   "version": "3.7.13"
  }
 },
 "nbformat": 4,
 "nbformat_minor": 5
}
