{
 "cells": [
  {
   "cell_type": "markdown",
   "id": "2cd421f8",
   "metadata": {},
   "source": [
    "## 5.a Create Attendance from Twilio SMS"
   ]
  },
  {
   "cell_type": "markdown",
   "id": "fb0f20e6",
   "metadata": {},
   "source": [
    "**GitHub Link:** [5.a Create Attendance from Twilio SMS](https://github.com/khhaledahmaad/attendance_monitoring_via_sms/blob/main/nbs/05a_create_attendance_from_twilio_sms.ipynb)"
   ]
  },
  {
   "cell_type": "code",
   "execution_count": null,
   "id": "1eebe7df",
   "metadata": {},
   "outputs": [],
   "source": []
  },
  {
   "cell_type": "code",
   "execution_count": null,
   "id": "425a88bf",
   "metadata": {},
   "outputs": [],
   "source": []
  },
  {
   "cell_type": "code",
   "execution_count": null,
   "id": "220b973d",
   "metadata": {},
   "outputs": [],
   "source": []
  },
  {
   "attachments": {
    "lsbu%20logo.png": {
     "image/png": "[encoded data removed]"
    }
   },
   "cell_type": "markdown",
   "id": "3338fb6f",
   "metadata": {},
   "source": [
    "![lsbu%20logo.png](attachment:lsbu%20logo.png)"
   ]
  },
  {
   "cell_type": "code",
   "execution_count": null,
   "id": "546e43bb",
   "metadata": {},
   "outputs": [],
   "source": []
  },
  {
   "cell_type": "code",
   "execution_count": null,
   "id": "4f0d337f",
   "metadata": {},
   "outputs": [],
   "source": []
  },
  {
   "cell_type": "code",
   "execution_count": null,
   "id": "3656492d",
   "metadata": {},
   "outputs": [],
   "source": []
  },
  {
   "cell_type": "code",
   "execution_count": null,
   "id": "cc52beb4",
   "metadata": {},
   "outputs": [],
   "source": []
  },
  {
   "cell_type": "markdown",
   "id": "2ca7ac1a",
   "metadata": {},
   "source": [
    "**Student Name:** Khaled Ahmed"
   ]
  },
  {
   "cell_type": "markdown",
   "id": "97ccaf5a",
   "metadata": {},
   "source": [
    "**Student ID:** 3821656"
   ]
  },
  {
   "cell_type": "markdown",
   "id": "1e5ab1ba",
   "metadata": {},
   "source": [
    "**Project Title:** Attendance Monitoring via SMS   "
   ]
  },
  {
   "cell_type": "markdown",
   "id": "1a47ee34",
   "metadata": {},
   "source": [
    "**Course:** BEng Hons Computer Engineering"
   ]
  },
  {
   "cell_type": "markdown",
   "id": "85f95134",
   "metadata": {},
   "source": [
    "**Project Supervisor:** Dr Oswaldo Cadenas"
   ]
  },
  {
   "cell_type": "code",
   "execution_count": null,
   "id": "abb2b0c9",
   "metadata": {},
   "outputs": [],
   "source": []
  },
  {
   "cell_type": "code",
   "execution_count": null,
   "id": "1feeee60",
   "metadata": {},
   "outputs": [],
   "source": []
  },
  {
   "cell_type": "code",
   "execution_count": null,
   "id": "51f17da7",
   "metadata": {},
   "outputs": [],
   "source": []
  },
  {
   "cell_type": "markdown",
   "id": "1abd8ef5",
   "metadata": {},
   "source": [
    "## Introduction\n",
    "This notebook shows how to retrieve text messages sent by students to a Twilio number for a specific time duration to create an attendance based on the course date time data available on course datasets stored in .csv files."
   ]
  },
  {
   "cell_type": "markdown",
   "id": "3209f2a2",
   "metadata": {},
   "source": [
    "## Objectives\n",
    "-  Create attendance from twilio messages\n",
    "-  Send acknowledgments to the students\n",
    "-  Send email attachment of the attendance to the tutor"
   ]
  },
  {
   "cell_type": "code",
   "execution_count": 1,
   "id": "d0b24a0d",
   "metadata": {},
   "outputs": [],
   "source": [
    "# Import libraries\n",
    "import os\n",
    "import pathlib\n",
    "import secrets\n",
    "from dotenv import load_dotenv\n",
    "import pandas as pd\n",
    "from datetime import datetime\n",
    "from twilio.rest import Client\n",
    "from flask import Flask\n",
    "from flask_mail import Mail, Message"
   ]
  },
  {
   "cell_type": "code",
   "execution_count": 2,
   "id": "4c0644ea",
   "metadata": {},
   "outputs": [],
   "source": [
    "# Set paths\n",
    "base_dir = pathlib.Path().absolute().parent\n",
    "\n",
    "# Path to all data directories\n",
    "data = base_dir/'datasets'\n",
    "\n",
    "# Path to credentials data\n",
    "credentials = data/'credentials'\n",
    "\n",
    "# Path to state data\n",
    "state = data/'state'\n",
    "\n",
    "# Path to raw data\n",
    "raw = data/'raw'\n",
    "\n",
    "# Path to processed data\n",
    "processed = data/'processed'\n",
    "\n",
    "# Path to environment variables\n",
    "env_vars = pathlib.Path(base_dir/'env_vars')"
   ]
  },
  {
   "cell_type": "code",
   "execution_count": 3,
   "id": "c7f4e1da",
   "metadata": {},
   "outputs": [],
   "source": [
    "# Load environment variables from .env.txt file\n",
    "\n",
    "\"\"\"\n",
    "The following section reads a env file to load twilio credentials saved in a '.env' file\n",
    "\"\"\"\n",
    "load_dotenv(env_vars/\".env.txt\")\n",
    "\n",
    "# Create twilio client object\n",
    "account_sid = os.environ.get(\"TWILIO_ACCOUNT_SID\")\n",
    "auth_token = os.environ.get(\"TWILIO_AUTH_TOKEN\")\n",
    "client = Client(account_sid, auth_token)"
   ]
  },
  {
   "cell_type": "code",
   "execution_count": 4,
   "id": "64d5194f",
   "metadata": {},
   "outputs": [
    {
     "data": {
      "text/html": [
       "<div>\n",
       "<style scoped>\n",
       "    .dataframe tbody tr th:only-of-type {\n",
       "        vertical-align: middle;\n",
       "    }\n",
       "\n",
       "    .dataframe tbody tr th {\n",
       "        vertical-align: top;\n",
       "    }\n",
       "\n",
       "    .dataframe thead th {\n",
       "        text-align: right;\n",
       "    }\n",
       "</style>\n",
       "<table border=\"1\" class=\"dataframe\">\n",
       "  <thead>\n",
       "    <tr style=\"text-align: right;\">\n",
       "      <th></th>\n",
       "      <th>id</th>\n",
       "      <th>first_name</th>\n",
       "      <th>last_name</th>\n",
       "      <th>student_id</th>\n",
       "      <th>email</th>\n",
       "    </tr>\n",
       "  </thead>\n",
       "  <tbody>\n",
       "    <tr>\n",
       "      <th>0</th>\n",
       "      <td>1</td>\n",
       "      <td>Khaled</td>\n",
       "      <td>Ahmed</td>\n",
       "      <td>3821656</td>\n",
       "      <td>ahmedk56@lsbu.ac.uk</td>\n",
       "    </tr>\n",
       "    <tr>\n",
       "      <th>1</th>\n",
       "      <td>2</td>\n",
       "      <td>Bobby</td>\n",
       "      <td>Hurley</td>\n",
       "      <td>3821657</td>\n",
       "      <td>hurleyb57@lsbu.ac.uk</td>\n",
       "    </tr>\n",
       "    <tr>\n",
       "      <th>2</th>\n",
       "      <td>3</td>\n",
       "      <td>Porter</td>\n",
       "      <td>Mckinney</td>\n",
       "      <td>3821658</td>\n",
       "      <td>mckinneyp58@lsbu.ac.uk</td>\n",
       "    </tr>\n",
       "    <tr>\n",
       "      <th>3</th>\n",
       "      <td>4</td>\n",
       "      <td>Laura</td>\n",
       "      <td>Meyers</td>\n",
       "      <td>3821659</td>\n",
       "      <td>meyersl59@lsbu.ac.uk</td>\n",
       "    </tr>\n",
       "    <tr>\n",
       "      <th>4</th>\n",
       "      <td>5</td>\n",
       "      <td>Natalya</td>\n",
       "      <td>Skinner</td>\n",
       "      <td>3821660</td>\n",
       "      <td>skinnern60@lsbu.ac.uk</td>\n",
       "    </tr>\n",
       "  </tbody>\n",
       "</table>\n",
       "</div>"
      ],
      "text/plain": [
       "   id first_name last_name  student_id                   email\n",
       "0   1     Khaled     Ahmed     3821656     ahmedk56@lsbu.ac.uk\n",
       "1   2      Bobby    Hurley     3821657    hurleyb57@lsbu.ac.uk\n",
       "2   3     Porter  Mckinney     3821658  mckinneyp58@lsbu.ac.uk\n",
       "3   4      Laura    Meyers     3821659    meyersl59@lsbu.ac.uk\n",
       "4   5    Natalya   Skinner     3821660   skinnern60@lsbu.ac.uk"
      ]
     },
     "execution_count": 4,
     "metadata": {},
     "output_type": "execute_result"
    }
   ],
   "source": [
    "# Load student table\n",
    "df_students = pd.read_csv(credentials/'students.csv')\n",
    "# Preview\n",
    "df_students.head()"
   ]
  },
  {
   "cell_type": "code",
   "execution_count": 5,
   "id": "bda1ea83",
   "metadata": {},
   "outputs": [
    {
     "data": {
      "text/html": [
       "<div>\n",
       "<style scoped>\n",
       "    .dataframe tbody tr th:only-of-type {\n",
       "        vertical-align: middle;\n",
       "    }\n",
       "\n",
       "    .dataframe tbody tr th {\n",
       "        vertical-align: top;\n",
       "    }\n",
       "\n",
       "    .dataframe thead th {\n",
       "        text-align: right;\n",
       "    }\n",
       "</style>\n",
       "<table border=\"1\" class=\"dataframe\">\n",
       "  <thead>\n",
       "    <tr style=\"text-align: right;\">\n",
       "      <th></th>\n",
       "      <th>id</th>\n",
       "      <th>course_name</th>\n",
       "      <th>course_code</th>\n",
       "      <th>tutor</th>\n",
       "      <th>email</th>\n",
       "      <th>teaching_day</th>\n",
       "      <th>start_time</th>\n",
       "      <th>end_time</th>\n",
       "    </tr>\n",
       "  </thead>\n",
       "  <tbody>\n",
       "    <tr>\n",
       "      <th>0</th>\n",
       "      <td>1</td>\n",
       "      <td>Engineering Mathematics and Modelling</td>\n",
       "      <td>101</td>\n",
       "      <td>Jon Selig</td>\n",
       "      <td>seligjm@lsbu.ac.uk</td>\n",
       "      <td>Monday</td>\n",
       "      <td>09:00</td>\n",
       "      <td>11:00</td>\n",
       "    </tr>\n",
       "    <tr>\n",
       "      <th>1</th>\n",
       "      <td>2</td>\n",
       "      <td>Digital Logic Design</td>\n",
       "      <td>102</td>\n",
       "      <td>Oswaldo Cadenas</td>\n",
       "      <td>cadenaso@lsbu.ac.uk</td>\n",
       "      <td>Tuesday</td>\n",
       "      <td>10:00</td>\n",
       "      <td>12:00</td>\n",
       "    </tr>\n",
       "    <tr>\n",
       "      <th>2</th>\n",
       "      <td>3</td>\n",
       "      <td>Cybersecurity and Cryptography</td>\n",
       "      <td>103</td>\n",
       "      <td>Stavros Dimitriou</td>\n",
       "      <td>dimitrsa@lsbu.ac.uk</td>\n",
       "      <td>Wednesday</td>\n",
       "      <td>12:00</td>\n",
       "      <td>14:00</td>\n",
       "    </tr>\n",
       "    <tr>\n",
       "      <th>3</th>\n",
       "      <td>4</td>\n",
       "      <td>Final Year Project</td>\n",
       "      <td>104</td>\n",
       "      <td>Fang Duan</td>\n",
       "      <td>duanf@lsbu.ac.uk</td>\n",
       "      <td>Thursday</td>\n",
       "      <td>12:00</td>\n",
       "      <td>14:00</td>\n",
       "    </tr>\n",
       "    <tr>\n",
       "      <th>4</th>\n",
       "      <td>5</td>\n",
       "      <td>Computer Systems and Software Engineering</td>\n",
       "      <td>105</td>\n",
       "      <td>Ya Bao</td>\n",
       "      <td>baoyb@lsbu.ac.uk</td>\n",
       "      <td>Friday</td>\n",
       "      <td>13:00</td>\n",
       "      <td>15:00</td>\n",
       "    </tr>\n",
       "  </tbody>\n",
       "</table>\n",
       "</div>"
      ],
      "text/plain": [
       "   id                                course_name  course_code  \\\n",
       "0   1      Engineering Mathematics and Modelling          101   \n",
       "1   2                       Digital Logic Design          102   \n",
       "2   3             Cybersecurity and Cryptography          103   \n",
       "3   4                         Final Year Project          104   \n",
       "4   5  Computer Systems and Software Engineering          105   \n",
       "\n",
       "               tutor                email teaching_day start_time end_time  \n",
       "0          Jon Selig   seligjm@lsbu.ac.uk       Monday      09:00    11:00  \n",
       "1    Oswaldo Cadenas  cadenaso@lsbu.ac.uk      Tuesday      10:00    12:00  \n",
       "2  Stavros Dimitriou  dimitrsa@lsbu.ac.uk    Wednesday      12:00    14:00  \n",
       "3          Fang Duan     duanf@lsbu.ac.uk     Thursday      12:00    14:00  \n",
       "4             Ya Bao     baoyb@lsbu.ac.uk       Friday      13:00    15:00  "
      ]
     },
     "execution_count": 5,
     "metadata": {},
     "output_type": "execute_result"
    }
   ],
   "source": [
    "# Load course table\n",
    "df_courses = pd.read_csv(credentials/'courses.csv')\n",
    "# Preview\n",
    "df_courses.head()"
   ]
  },
  {
   "cell_type": "code",
   "execution_count": 6,
   "id": "10bccfe7",
   "metadata": {},
   "outputs": [
    {
     "data": {
      "text/html": [
       "<div>\n",
       "<style scoped>\n",
       "    .dataframe tbody tr th:only-of-type {\n",
       "        vertical-align: middle;\n",
       "    }\n",
       "\n",
       "    .dataframe tbody tr th {\n",
       "        vertical-align: top;\n",
       "    }\n",
       "\n",
       "    .dataframe thead th {\n",
       "        text-align: right;\n",
       "    }\n",
       "</style>\n",
       "<table border=\"1\" class=\"dataframe\">\n",
       "  <thead>\n",
       "    <tr style=\"text-align: right;\">\n",
       "      <th></th>\n",
       "      <th>academic_semester</th>\n",
       "      <th>academic_week</th>\n",
       "      <th>calendar_week</th>\n",
       "      <th>date_range</th>\n",
       "      <th>week_start</th>\n",
       "      <th>week_end</th>\n",
       "    </tr>\n",
       "  </thead>\n",
       "  <tbody>\n",
       "    <tr>\n",
       "      <th>0</th>\n",
       "      <td>1</td>\n",
       "      <td>1</td>\n",
       "      <td>39</td>\n",
       "      <td>2022-09-26/2022-10-02</td>\n",
       "      <td>2022-09-26</td>\n",
       "      <td>2022-10-02</td>\n",
       "    </tr>\n",
       "    <tr>\n",
       "      <th>1</th>\n",
       "      <td>1</td>\n",
       "      <td>2</td>\n",
       "      <td>40</td>\n",
       "      <td>2022-10-03/2022-10-09</td>\n",
       "      <td>2022-10-03</td>\n",
       "      <td>2022-10-09</td>\n",
       "    </tr>\n",
       "    <tr>\n",
       "      <th>2</th>\n",
       "      <td>1</td>\n",
       "      <td>3</td>\n",
       "      <td>41</td>\n",
       "      <td>2022-10-10/2022-10-16</td>\n",
       "      <td>2022-10-10</td>\n",
       "      <td>2022-10-16</td>\n",
       "    </tr>\n",
       "    <tr>\n",
       "      <th>3</th>\n",
       "      <td>1</td>\n",
       "      <td>4</td>\n",
       "      <td>42</td>\n",
       "      <td>2022-10-17/2022-10-23</td>\n",
       "      <td>2022-10-17</td>\n",
       "      <td>2022-10-23</td>\n",
       "    </tr>\n",
       "    <tr>\n",
       "      <th>4</th>\n",
       "      <td>1</td>\n",
       "      <td>5</td>\n",
       "      <td>43</td>\n",
       "      <td>2022-10-24/2022-10-30</td>\n",
       "      <td>2022-10-24</td>\n",
       "      <td>2022-10-30</td>\n",
       "    </tr>\n",
       "  </tbody>\n",
       "</table>\n",
       "</div>"
      ],
      "text/plain": [
       "   academic_semester  academic_week  calendar_week             date_range  \\\n",
       "0                  1              1             39  2022-09-26/2022-10-02   \n",
       "1                  1              2             40  2022-10-03/2022-10-09   \n",
       "2                  1              3             41  2022-10-10/2022-10-16   \n",
       "3                  1              4             42  2022-10-17/2022-10-23   \n",
       "4                  1              5             43  2022-10-24/2022-10-30   \n",
       "\n",
       "  week_start   week_end  \n",
       "0 2022-09-26 2022-10-02  \n",
       "1 2022-10-03 2022-10-09  \n",
       "2 2022-10-10 2022-10-16  \n",
       "3 2022-10-17 2022-10-23  \n",
       "4 2022-10-24 2022-10-30  "
      ]
     },
     "execution_count": 6,
     "metadata": {},
     "output_type": "execute_result"
    }
   ],
   "source": [
    "# Load timetable table\n",
    "df_timetable = pd.read_csv(credentials/'timetable.csv', parse_dates=['week_start', 'week_end'], infer_datetime_format=True)\n",
    "# Preview\n",
    "df_timetable.head()"
   ]
  },
  {
   "cell_type": "code",
   "execution_count": 7,
   "id": "cc8c6e48",
   "metadata": {},
   "outputs": [
    {
     "data": {
      "text/plain": [
       "array(['Engineering Mathematics and Modelling', 'Digital Logic Design',\n",
       "       'Cybersecurity and Cryptography', 'Final Year Project',\n",
       "       'Computer Systems and Software Engineering',\n",
       "       'Desging and Practice', 'Engineering Computing',\n",
       "       'Engineering Principles', 'Innovation and Enterprise',\n",
       "       'Computer Networks'], dtype=object)"
      ]
     },
     "execution_count": 7,
     "metadata": {},
     "output_type": "execute_result"
    }
   ],
   "source": [
    "# All courses\n",
    "courses = df_courses.course_name.dropna().unique()\n",
    "courses"
   ]
  },
  {
   "cell_type": "code",
   "execution_count": 8,
   "id": "bad86926",
   "metadata": {},
   "outputs": [
    {
     "data": {
      "text/plain": [
       "[1, 2, 3, 4, 5, 6, 7, 8, 9, 10, 11, 12, 13]"
      ]
     },
     "execution_count": 8,
     "metadata": {},
     "output_type": "execute_result"
    }
   ],
   "source": [
    "# All weeks\n",
    "weeks = list(df_timetable.academic_week.dropna().unique())\n",
    "weeks"
   ]
  },
  {
   "cell_type": "code",
   "execution_count": 9,
   "id": "e9cba9a2",
   "metadata": {},
   "outputs": [
    {
     "data": {
      "text/plain": [
       "{'Monday': 0,\n",
       " 'Tuesday': 1,\n",
       " 'Wednesday': 2,\n",
       " 'Thursday': 3,\n",
       " 'Friday': 4,\n",
       " 'Saturday': 5,\n",
       " 'Sunday': 6}"
      ]
     },
     "execution_count": 9,
     "metadata": {},
     "output_type": "execute_result"
    }
   ],
   "source": [
    "# Create a dictionary for days\n",
    "days_dict = {'Monday': 0, 'Tuesday': 1, 'Wednesday': 2, 'Thursday': 3, 'Friday': 4, 'Saturday': 5, 'Sunday': 6}\n",
    "days_dict"
   ]
  },
  {
   "cell_type": "code",
   "execution_count": 10,
   "id": "91cce0b0",
   "metadata": {},
   "outputs": [
    {
     "name": "stdout",
     "output_type": "stream",
     "text": [
      "Course Name:  Cybersecurity and Cryptography\n",
      "Course Code:  103\n",
      "Semester:  2\n",
      "Academic Week:  1\n",
      "file Name:  103_semester_2_week_1_attendance.csv\n"
     ]
    }
   ],
   "source": [
    "# Define inputs, in flask these inputs are derived from the web form\n",
    "course_name = df_courses.course_name[2] # request.form['comp_select']\n",
    "print('Course Name: ', course_name)\n",
    "course_code = df_courses.loc[df_courses.course_name == course_name, 'course_code'].squeeze()\n",
    "print('Course Code: ', course_code)\n",
    "semester = 2 #int(request.form['comp_select1'])\n",
    "print('Semester: ', semester)\n",
    "academic_week = 1 #int(request.form['comp_select2'])\n",
    "print('Academic Week: ', academic_week)\n",
    "\n",
    "# Define file name to store data\n",
    "file_name = f'{course_code}_semester_{semester}_week_{academic_week}_attendance.csv'\n",
    "print('file Name: ', file_name)"
   ]
  },
  {
   "cell_type": "code",
   "execution_count": 11,
   "id": "8a8b5b91",
   "metadata": {},
   "outputs": [
    {
     "name": "stderr",
     "output_type": "stream",
     "text": [
      "C:\\Users\\ahmedk40\\Miniconda3\\envs\\twilio\\lib\\site-packages\\ipykernel_launcher.py:8: FutureWarning: Series.dt.weekofyear and Series.dt.week have been deprecated.  Please use Series.dt.isocalendar().week instead.\n",
      "  \n"
     ]
    },
    {
     "data": {
      "text/plain": [
       "('Wednesday',\n",
       " 2,\n",
       " 13   2023-01-23\n",
       " Name: week_start, dtype: datetime64[ns],\n",
       " 2023,\n",
       " 1,\n",
       " 'January',\n",
       " 4,\n",
       " 25,\n",
       " 'Wednesday',\n",
       " datetime.date(2023, 1, 25),\n",
       " 12,\n",
       " 14)"
      ]
     },
     "execution_count": 11,
     "metadata": {},
     "output_type": "execute_result"
    }
   ],
   "source": [
    "# Derive date time variables\n",
    "teaching_day = df_courses.loc[df_courses.course_name == course_name, 'teaching_day'].squeeze()\n",
    "day_num_in_week = days_dict[teaching_day]\n",
    "week_start = df_timetable.loc[(df_timetable.academic_semester==semester) & (df_timetable.academic_week==academic_week), 'week_start'] \n",
    "year = (week_start + pd.DateOffset(days=day_num_in_week)).dt.year.squeeze()\n",
    "month = (week_start + pd.DateOffset(days=day_num_in_week)).dt.month.squeeze()\n",
    "month_name = (week_start + pd.DateOffset(days=day_num_in_week)).dt.month_name().squeeze()\n",
    "week = (week_start + pd.DateOffset(days=day_num_in_week)).dt.week.squeeze()\n",
    "day = (week_start + pd.DateOffset(days=day_num_in_week)).dt.day.squeeze()\n",
    "day_name = (week_start + pd.DateOffset(days=day_num_in_week)).dt.day_name().squeeze()\n",
    "date = (week_start + pd.DateOffset(days=day_num_in_week)).dt.date.squeeze()\n",
    "start_hour = int(df_courses.loc[df_courses.course_name == course_name, 'start_time'].apply(lambda x: str(x)[:2]).squeeze())\n",
    "end_hour = int(df_courses.loc[df_courses.course_name == course_name, 'end_time'].apply(lambda x: str(x)[:2]).squeeze())\n",
    "\n",
    "# Preview\n",
    "teaching_day, day_num_in_week, week_start, year, month, month_name, week, day, day_name, date, start_hour, end_hour"
   ]
  },
  {
   "cell_type": "code",
   "execution_count": 12,
   "id": "cbb1991c",
   "metadata": {},
   "outputs": [
    {
     "data": {
      "text/plain": [
       "[<Twilio.Api.V2010.MessageInstance account_sid=AC09707889db3719e911d4ab78188afc7b sid=SM0b25d78117b2311504edef0d0faaffc1>,\n",
       " <Twilio.Api.V2010.MessageInstance account_sid=AC09707889db3719e911d4ab78188afc7b sid=SM171a21218bb7d04c99b044e17bb6f8f8>,\n",
       " <Twilio.Api.V2010.MessageInstance account_sid=AC09707889db3719e911d4ab78188afc7b sid=SMd0047080bdc41bee18da0234d9ac00d3>,\n",
       " <Twilio.Api.V2010.MessageInstance account_sid=AC09707889db3719e911d4ab78188afc7b sid=SM67a8e5bd0f51efc3714a07a6528ebddd>]"
      ]
     },
     "execution_count": 12,
     "metadata": {},
     "output_type": "execute_result"
    }
   ],
   "source": [
    "# Retrieve sms using the client object\n",
    "messages = client.messages.list(\n",
    "    date_sent_after=datetime(year, month, day, start_hour, 0, 0),\n",
    "    date_sent_before=datetime(year, month, day, end_hour, 0, 0)\n",
    ")\n",
    "messages"
   ]
  },
  {
   "cell_type": "code",
   "execution_count": 13,
   "id": "2662d13b",
   "metadata": {},
   "outputs": [
    {
     "data": {
      "text/html": [
       "<div>\n",
       "<style scoped>\n",
       "    .dataframe tbody tr th:only-of-type {\n",
       "        vertical-align: middle;\n",
       "    }\n",
       "\n",
       "    .dataframe tbody tr th {\n",
       "        vertical-align: top;\n",
       "    }\n",
       "\n",
       "    .dataframe thead th {\n",
       "        text-align: right;\n",
       "    }\n",
       "</style>\n",
       "<table border=\"1\" class=\"dataframe\">\n",
       "  <thead>\n",
       "    <tr style=\"text-align: right;\">\n",
       "      <th></th>\n",
       "      <th>from</th>\n",
       "      <th>message</th>\n",
       "      <th>status</th>\n",
       "      <th>date_sent</th>\n",
       "    </tr>\n",
       "  </thead>\n",
       "  <tbody>\n",
       "    <tr>\n",
       "      <th>0</th>\n",
       "      <td>+447700168312</td>\n",
       "      <td>Sent from your Twilio trial account - Hi Khale...</td>\n",
       "      <td>delivered</td>\n",
       "      <td>2023-01-25 13:41:56+00:00</td>\n",
       "    </tr>\n",
       "    <tr>\n",
       "      <th>1</th>\n",
       "      <td>+447700168312</td>\n",
       "      <td>Sent from your Twilio trial account - Hi Khale...</td>\n",
       "      <td>delivered</td>\n",
       "      <td>2023-01-25 13:33:48+00:00</td>\n",
       "    </tr>\n",
       "    <tr>\n",
       "      <th>2</th>\n",
       "      <td>+447440049121</td>\n",
       "      <td>3821656</td>\n",
       "      <td>received</td>\n",
       "      <td>2023-01-25 13:22:10+00:00</td>\n",
       "    </tr>\n",
       "    <tr>\n",
       "      <th>3</th>\n",
       "      <td>+447440049121</td>\n",
       "      <td>3821656 103</td>\n",
       "      <td>received</td>\n",
       "      <td>2023-01-25 12:26:28+00:00</td>\n",
       "    </tr>\n",
       "  </tbody>\n",
       "</table>\n",
       "</div>"
      ],
      "text/plain": [
       "            from                                            message  \\\n",
       "0  +447700168312  Sent from your Twilio trial account - Hi Khale...   \n",
       "1  +447700168312  Sent from your Twilio trial account - Hi Khale...   \n",
       "2  +447440049121                                            3821656   \n",
       "3  +447440049121                                        3821656 103   \n",
       "\n",
       "      status                 date_sent  \n",
       "0  delivered 2023-01-25 13:41:56+00:00  \n",
       "1  delivered 2023-01-25 13:33:48+00:00  \n",
       "2   received 2023-01-25 13:22:10+00:00  \n",
       "3   received 2023-01-25 12:26:28+00:00  "
      ]
     },
     "execution_count": 13,
     "metadata": {},
     "output_type": "execute_result"
    }
   ],
   "source": [
    "# Append the retrieved sms's to a dataframe\n",
    "if len(messages) == 0:\n",
    "    df = None\n",
    "else:\n",
    "    d = []\n",
    "    for message in messages:\n",
    "        d.append((message.from_, message.body ,message.status,message.date_sent))\n",
    "\n",
    "    df = pd.DataFrame(d ,columns=['from' ,'message' ,'status' ,'date_sent'])\n",
    "\n",
    "# Preview\n",
    "df.head()"
   ]
  },
  {
   "cell_type": "code",
   "execution_count": 14,
   "id": "296c81c0",
   "metadata": {},
   "outputs": [
    {
     "data": {
      "text/html": [
       "<div>\n",
       "<style scoped>\n",
       "    .dataframe tbody tr th:only-of-type {\n",
       "        vertical-align: middle;\n",
       "    }\n",
       "\n",
       "    .dataframe tbody tr th {\n",
       "        vertical-align: top;\n",
       "    }\n",
       "\n",
       "    .dataframe thead th {\n",
       "        text-align: right;\n",
       "    }\n",
       "</style>\n",
       "<table border=\"1\" class=\"dataframe\">\n",
       "  <thead>\n",
       "    <tr style=\"text-align: right;\">\n",
       "      <th></th>\n",
       "      <th>from</th>\n",
       "      <th>message</th>\n",
       "      <th>status</th>\n",
       "      <th>date_sent</th>\n",
       "      <th>student_id</th>\n",
       "      <th>course_code</th>\n",
       "      <th>student_name</th>\n",
       "    </tr>\n",
       "  </thead>\n",
       "  <tbody>\n",
       "    <tr>\n",
       "      <th>2</th>\n",
       "      <td>+447440049121</td>\n",
       "      <td>3821656</td>\n",
       "      <td>received</td>\n",
       "      <td>2023-01-25 13:22:10+00:00</td>\n",
       "      <td>3821656</td>\n",
       "      <td>None</td>\n",
       "      <td>Khaled Ahmed</td>\n",
       "    </tr>\n",
       "    <tr>\n",
       "      <th>3</th>\n",
       "      <td>+447440049121</td>\n",
       "      <td>3821656 103</td>\n",
       "      <td>received</td>\n",
       "      <td>2023-01-25 12:26:28+00:00</td>\n",
       "      <td>3821656</td>\n",
       "      <td>103</td>\n",
       "      <td>Khaled Ahmed</td>\n",
       "    </tr>\n",
       "  </tbody>\n",
       "</table>\n",
       "</div>"
      ],
      "text/plain": [
       "            from      message    status                 date_sent student_id  \\\n",
       "2  +447440049121      3821656  received 2023-01-25 13:22:10+00:00    3821656   \n",
       "3  +447440049121  3821656 103  received 2023-01-25 12:26:28+00:00    3821656   \n",
       "\n",
       "  course_code  student_name  \n",
       "2        None  Khaled Ahmed  \n",
       "3         103  Khaled Ahmed  "
      ]
     },
     "execution_count": 14,
     "metadata": {},
     "output_type": "execute_result"
    }
   ],
   "source": [
    "# Extract new features\n",
    "df['student_id'] = df.message.str.split(' ', expand=True, n=1).astype(str)[0]\n",
    "df['course_code'] = df.message.str.split(' ', expand=True, n=1).astype(str)[1]\n",
    "\n",
    "def student_name(df):\n",
    "    first_name = df_students.loc[df_students.student_id.astype(str) == df.student_id, 'first_name'].squeeze()\n",
    "    last_name = df_students.loc[df_students.student_id.astype(str) == df.student_id, 'last_name'].squeeze()\n",
    "    df['student_name'] = first_name+ ' ' + last_name\n",
    "    return df\n",
    "\n",
    "df = df.loc[df.status=='received'].apply(student_name, axis='columns')\n",
    "\n",
    "# Preview\n",
    "df.head()"
   ]
  },
  {
   "cell_type": "code",
   "execution_count": 15,
   "id": "252a94c5",
   "metadata": {},
   "outputs": [
    {
     "data": {
      "text/html": [
       "<div>\n",
       "<style scoped>\n",
       "    .dataframe tbody tr th:only-of-type {\n",
       "        vertical-align: middle;\n",
       "    }\n",
       "\n",
       "    .dataframe tbody tr th {\n",
       "        vertical-align: top;\n",
       "    }\n",
       "\n",
       "    .dataframe thead th {\n",
       "        text-align: right;\n",
       "    }\n",
       "</style>\n",
       "<table border=\"1\" class=\"dataframe\">\n",
       "  <thead>\n",
       "    <tr style=\"text-align: right;\">\n",
       "      <th></th>\n",
       "      <th>from</th>\n",
       "      <th>student_id</th>\n",
       "      <th>student_name</th>\n",
       "      <th>message</th>\n",
       "      <th>date_sent</th>\n",
       "    </tr>\n",
       "  </thead>\n",
       "  <tbody>\n",
       "    <tr>\n",
       "      <th>3</th>\n",
       "      <td>+447440049121</td>\n",
       "      <td>3821656</td>\n",
       "      <td>Khaled Ahmed</td>\n",
       "      <td>3821656 103</td>\n",
       "      <td>2023-01-25 12:26:28+00:00</td>\n",
       "    </tr>\n",
       "  </tbody>\n",
       "</table>\n",
       "</div>"
      ],
      "text/plain": [
       "            from student_id  student_name      message  \\\n",
       "3  +447440049121    3821656  Khaled Ahmed  3821656 103   \n",
       "\n",
       "                  date_sent  \n",
       "3 2023-01-25 12:26:28+00:00  "
      ]
     },
     "execution_count": 15,
     "metadata": {},
     "output_type": "execute_result"
    }
   ],
   "source": [
    "# Valid Attendance\n",
    "df_attendance = df.loc[(df.student_id.isin(df_students.student_id.astype(str))) & (df.course_code==str(course_code))]\n",
    "df_attendance = df_attendance[['from', 'student_id', 'student_name', 'message', 'date_sent']]\n",
    "\n",
    "# Preview\n",
    "df_attendance.head()"
   ]
  },
  {
   "cell_type": "code",
   "execution_count": 16,
   "id": "98ab58af",
   "metadata": {},
   "outputs": [
    {
     "data": {
      "text/html": [
       "<div>\n",
       "<style scoped>\n",
       "    .dataframe tbody tr th:only-of-type {\n",
       "        vertical-align: middle;\n",
       "    }\n",
       "\n",
       "    .dataframe tbody tr th {\n",
       "        vertical-align: top;\n",
       "    }\n",
       "\n",
       "    .dataframe thead th {\n",
       "        text-align: right;\n",
       "    }\n",
       "</style>\n",
       "<table border=\"1\" class=\"dataframe\">\n",
       "  <thead>\n",
       "    <tr style=\"text-align: right;\">\n",
       "      <th></th>\n",
       "      <th>from</th>\n",
       "      <th>message</th>\n",
       "      <th>status</th>\n",
       "      <th>date_sent</th>\n",
       "      <th>student_id</th>\n",
       "      <th>course_code</th>\n",
       "      <th>student_name</th>\n",
       "    </tr>\n",
       "  </thead>\n",
       "  <tbody>\n",
       "    <tr>\n",
       "      <th>2</th>\n",
       "      <td>+447440049121</td>\n",
       "      <td>3821656</td>\n",
       "      <td>received</td>\n",
       "      <td>2023-01-25 13:22:10+00:00</td>\n",
       "      <td>3821656</td>\n",
       "      <td>None</td>\n",
       "      <td>Khaled Ahmed</td>\n",
       "    </tr>\n",
       "  </tbody>\n",
       "</table>\n",
       "</div>"
      ],
      "text/plain": [
       "            from  message    status                 date_sent student_id  \\\n",
       "2  +447440049121  3821656  received 2023-01-25 13:22:10+00:00    3821656   \n",
       "\n",
       "  course_code  student_name  \n",
       "2        None  Khaled Ahmed  "
      ]
     },
     "execution_count": 16,
     "metadata": {},
     "output_type": "execute_result"
    }
   ],
   "source": [
    "# Spammed Attendance\n",
    "df_invalid_attendance = df.loc[~(df.student_id.isin(df_students.student_id.astype(str))) | (df.course_code!=str(course_code))]\n",
    "\n",
    "# Preview\n",
    "df_invalid_attendance.head()"
   ]
  },
  {
   "cell_type": "code",
   "execution_count": 17,
   "id": "0a2d4ada",
   "metadata": {},
   "outputs": [],
   "source": [
    "# Store the data in dedicated locations by uncommenting the code block below.\n",
    "# df.to_csv(raw/file_name, index=False)\n",
    "# df_attendance.to_csv(processed/'attendance'/file_name, index=False)\n",
    "# df_invalid_attendance.to_csv(processed/'spam'/file_name, index=False)"
   ]
  },
  {
   "cell_type": "code",
   "execution_count": 18,
   "id": "855208aa",
   "metadata": {},
   "outputs": [
    {
     "data": {
      "text/html": [
       "<div>\n",
       "<style scoped>\n",
       "    .dataframe tbody tr th:only-of-type {\n",
       "        vertical-align: middle;\n",
       "    }\n",
       "\n",
       "    .dataframe tbody tr th {\n",
       "        vertical-align: top;\n",
       "    }\n",
       "\n",
       "    .dataframe thead th {\n",
       "        text-align: right;\n",
       "    }\n",
       "</style>\n",
       "<table border=\"1\" class=\"dataframe\">\n",
       "  <thead>\n",
       "    <tr style=\"text-align: right;\">\n",
       "      <th></th>\n",
       "      <th>course_name</th>\n",
       "      <th>course_code</th>\n",
       "      <th>date</th>\n",
       "      <th>year</th>\n",
       "      <th>month</th>\n",
       "      <th>day</th>\n",
       "      <th>week</th>\n",
       "      <th>academic_semester</th>\n",
       "      <th>academic_week</th>\n",
       "      <th>total_attendees</th>\n",
       "    </tr>\n",
       "  </thead>\n",
       "  <tbody>\n",
       "    <tr>\n",
       "      <th>117</th>\n",
       "      <td>Engineering Principles</td>\n",
       "      <td>108</td>\n",
       "      <td>14/12/2022</td>\n",
       "      <td>2022</td>\n",
       "      <td>December</td>\n",
       "      <td>Wednesday</td>\n",
       "      <td>50</td>\n",
       "      <td>1</td>\n",
       "      <td>12</td>\n",
       "      <td>158</td>\n",
       "    </tr>\n",
       "    <tr>\n",
       "      <th>118</th>\n",
       "      <td>Innovation and Enterprise</td>\n",
       "      <td>109</td>\n",
       "      <td>15/12/2022</td>\n",
       "      <td>2022</td>\n",
       "      <td>December</td>\n",
       "      <td>Thursday</td>\n",
       "      <td>50</td>\n",
       "      <td>1</td>\n",
       "      <td>12</td>\n",
       "      <td>152</td>\n",
       "    </tr>\n",
       "    <tr>\n",
       "      <th>119</th>\n",
       "      <td>Computer Networks</td>\n",
       "      <td>110</td>\n",
       "      <td>16/12/2022</td>\n",
       "      <td>2022</td>\n",
       "      <td>December</td>\n",
       "      <td>Friday</td>\n",
       "      <td>50</td>\n",
       "      <td>1</td>\n",
       "      <td>12</td>\n",
       "      <td>157</td>\n",
       "    </tr>\n",
       "    <tr>\n",
       "      <th>120</th>\n",
       "      <td>Cybersecurity and Cryptography</td>\n",
       "      <td>103</td>\n",
       "      <td>2023-01-25</td>\n",
       "      <td>2023</td>\n",
       "      <td>January</td>\n",
       "      <td>Wednesday</td>\n",
       "      <td>4</td>\n",
       "      <td>2</td>\n",
       "      <td>1</td>\n",
       "      <td>1</td>\n",
       "    </tr>\n",
       "    <tr>\n",
       "      <th>121</th>\n",
       "      <td>Cybersecurity and Cryptography</td>\n",
       "      <td>103</td>\n",
       "      <td>2023-01-25</td>\n",
       "      <td>2023</td>\n",
       "      <td>January</td>\n",
       "      <td>Wednesday</td>\n",
       "      <td>4</td>\n",
       "      <td>2</td>\n",
       "      <td>1</td>\n",
       "      <td>1</td>\n",
       "    </tr>\n",
       "  </tbody>\n",
       "</table>\n",
       "</div>"
      ],
      "text/plain": [
       "                        course_name  course_code        date  year     month  \\\n",
       "117          Engineering Principles          108  14/12/2022  2022  December   \n",
       "118       Innovation and Enterprise          109  15/12/2022  2022  December   \n",
       "119               Computer Networks          110  16/12/2022  2022  December   \n",
       "120  Cybersecurity and Cryptography          103  2023-01-25  2023   January   \n",
       "121  Cybersecurity and Cryptography          103  2023-01-25  2023   January   \n",
       "\n",
       "           day  week  academic_semester  academic_week  total_attendees  \n",
       "117  Wednesday    50                  1             12              158  \n",
       "118   Thursday    50                  1             12              152  \n",
       "119     Friday    50                  1             12              157  \n",
       "120  Wednesday     4                  2              1                1  \n",
       "121  Wednesday     4                  2              1                1  "
      ]
     },
     "execution_count": 18,
     "metadata": {},
     "output_type": "execute_result"
    }
   ],
   "source": [
    "# Update teh Weekly attendance file\n",
    "df_weekly = pd.read_csv(processed/'weekly_attendance.csv')\n",
    "\n",
    "df_weekly = df_weekly.append({\n",
    "    'course_name': course_name, 'course_code': course_code, 'date': date, 'year': year, 'month': month_name,\n",
    "    'day': day_name, 'week': week, 'academic_semester': semester, 'academic_week': academic_week, 'total_attendees': len(df_attendance)\n",
    "}, ignore_index=True)\n",
    "# df_weekly.to_csv(processed/'weekly_attendance.csv', index=False)\n",
    "\n",
    "# Preview\n",
    "df_weekly.tail()"
   ]
  },
  {
   "cell_type": "code",
   "execution_count": 19,
   "id": "423a0be6",
   "metadata": {},
   "outputs": [],
   "source": [
    "# Acknowledgement message to the students\n",
    "for student in df_attendance.student_id:\n",
    "    student_name = df_students.loc[df_students.student_id.astype(str).isin([student]), 'first_name'].squeeze()\n",
    "    student_phone_no = df_attendance.loc[df_attendance.student_id==student, 'from'].squeeze()\n",
    "\n",
    "    client.messages.create(\n",
    "    body = f\"Hi {student_name}, congratulations! Your attendance for '{course_name}', 'semester {semester}', 'week {academic_week}' has been successfully registered.\",\n",
    "    from_ = os.environ.get(\"TWILIO_PHONE_NUMBER\"),\n",
    "    to=student_phone_no)"
   ]
  },
  {
   "cell_type": "markdown",
   "id": "b6a22e61",
   "metadata": {},
   "source": [
    "__N.B.:__ The following code blocks need to be run within the flask script to get successful results, therefore, commented out."
   ]
  },
  {
   "cell_type": "code",
   "execution_count": 21,
   "id": "05588ade",
   "metadata": {},
   "outputs": [],
   "source": [
    "# # Flask app\n",
    "# app = Flask(__name__)\n",
    "\n",
    "# # Configure a secret-key for the flask app\n",
    "# app.config[\"SECRET_KEY\"] = secrets.token_hex(24)\n",
    "# # Configure flask mail app\n",
    "# app.config['MAIL_SERVER'] = 'smtp.mailtrap.io'\n",
    "# app.config['MAIL_PORT'] = 2525\n",
    "# app.config['MAIL_USERNAME'] = os.environ.get('MAIL_USERNAME')\n",
    "# app.config['MAIL_PASSWORD'] = os.environ.get('MAIL_PASSWORD')\n",
    "# app.config['MAIL_USE_TLS'] = True\n",
    "# app.config['MAIL_USE_SSL'] = False\n",
    "\n",
    "# # Create mail app\n",
    "# mail = Mail(app)"
   ]
  },
  {
   "cell_type": "code",
   "execution_count": 22,
   "id": "27a63213",
   "metadata": {},
   "outputs": [],
   "source": [
    "# # Email the attendance to the tutor\n",
    "# tutor_name = df_courses.loc[df_courses.course_name == course_name, 'tutor'].str.split(' ', expand=True, n=1)[0].squeeze()\n",
    "# tutor_email = df_courses.loc[df_courses.course_name == course_name, 'email'].squeeze()\n",
    "# msg = Message(f'Attendance- {course_name}, semester {semester}, week {academic_week}',\n",
    "#           sender=\"admin@attendance.lsbu.ac.uk\", recipients=[tutor_email])\n",
    "# msg.body = f\"Hi {tutor_name},\\n\\nThe attendance for '{course_name}' for 'semester {semester}', 'week {academic_week}' has been created.\\n\\nPlease find the attendance attached!\\n\\nKind Regards,\\nAttendance Team\"\n",
    "# with app.open_resource(f'datasets\\\\processed\\\\attendance\\\\{file_name}') as fp:  \n",
    "#     msg.attach(f'datasets\\\\processed\\\\attendance\\\\{file_name}', \"text/csv\", fp.read()) \n",
    "# mail.send(msg)"
   ]
  },
  {
   "cell_type": "markdown",
   "id": "bc5cf37f",
   "metadata": {},
   "source": [
    "### Summary\n",
    "In this notebook it was demonstrated how to:\n",
    "-  Create attendance from twilio messages\n",
    "-  Send acknowledgments to the students\n",
    "- Send email attachment of the attendance to the tutor"
   ]
  },
  {
   "cell_type": "markdown",
   "id": "eb12f42c",
   "metadata": {},
   "source": [
    "<center><b>Author</b></center>\n",
    "\n",
    "| Name | Date Created | Last Modified |\n",
    "|------|--------------|---------------|\n",
    "|Khaled Ahmed | 10/01/2023 | 10/01/2023|"
   ]
  }
 ],
 "metadata": {
  "kernelspec": {
   "display_name": "Python 3 (ipykernel)",
   "language": "python",
   "name": "python3"
  },
  "language_info": {
   "codemirror_mode": {
    "name": "ipython",
    "version": 3
   },
   "file_extension": ".py",
   "mimetype": "text/x-python",
   "name": "python",
   "nbconvert_exporter": "python",
   "pygments_lexer": "ipython3",
   "version": "3.7.13"
  },
  "vscode": {
   "interpreter": {
    "hash": "8772fee82389021f9a06d07f6d962e66f66440103d20066f1d4e1f6e0bed6b66"
   }
  }
 },
 "nbformat": 4,
 "nbformat_minor": 5
}
