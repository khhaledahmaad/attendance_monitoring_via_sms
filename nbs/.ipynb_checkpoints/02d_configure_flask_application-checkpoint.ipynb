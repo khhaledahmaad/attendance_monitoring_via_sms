{
 "cells": [
  {
   "cell_type": "markdown",
   "id": "95007df4",
   "metadata": {},
   "source": [
    "![lsbu](https://storage-prtl-co.imgix.net/endor/organisations/11506/logos/1540893470_rsz_lsbu_crest_simple_white_text_horizon_blackoutline.jpg)"
   ]
  },
  {
   "cell_type": "markdown",
   "id": "d7b8a497",
   "metadata": {},
   "source": [
    "## Introduction\n",
    "This notebook shows how to configure the flask application, implementing the `Attendance monitoring via SMS` project. "
   ]
  },
  {
   "cell_type": "markdown",
   "id": "fc1c56c4",
   "metadata": {},
   "source": [
    "## Objectives\n",
    "-  Import python all libraries and packages\n",
    "-  Set up the paths to the project directories\n",
    "-  Configure a flask application\n",
    "-  Configure falsk-mailing\n",
    "-  Configure flask-login and seesion management \n",
    "-  Define endpoints for flask application"
   ]
  },
  {
   "cell_type": "markdown",
   "id": "2a04a2bc",
   "metadata": {},
   "source": [
    "## Configuartion\n",
    "\n",
    "Make sure you have the required environments and packages configured, as mentioned in the `01a_set_up_the_environments\n",
    "` notebook."
   ]
  },
  {
   "cell_type": "markdown",
   "id": "853f228b",
   "metadata": {},
   "source": [
    "## Import Libraries"
   ]
  },
  {
   "cell_type": "code",
   "execution_count": null,
   "id": "adf81391",
   "metadata": {},
   "outputs": [],
   "source": [
    "import os\n",
    "import re\n",
    "import pathlib\n",
    "import secrets\n",
    "import pandas as pd\n",
    "from typing import Dict, Optional\n",
    "from flask import Flask, request, render_template, redirect, url_for\n",
    "from flask_login import LoginManager, UserMixin, login_user, logout_user, login_required, current_user\n",
    "from bs4 import BeautifulSoup\n",
    "import altair as alt\n",
    "from flask_mail import Mail, Message\n",
    "from dotenv import load_dotenv\n",
    "from datetime import date, datetime\n",
    "from twilio.rest import Client"
   ]
  },
  {
   "cell_type": "markdown",
   "id": "f172b6cd",
   "metadata": {},
   "source": [
    "## Folder Structure\n",
    "```python\n",
    "|-- attendance_monioring_via_sms\n",
    "|   |-- .twilio\n",
    "|   |-- datasets\n",
    "|      |-- *.csv\n",
    "|   |-- docs\n",
    "|      |-- *.md\n",
    "|      |-- *.pdf\n",
    "|   |-- env_vars\n",
    "|      |-- .env.txt\n",
    "|   |-- images\n",
    "|      |-- *.png\n",
    "|   |-- nbs\n",
    "|      |-- *.ipynb \n",
    "|   |-- static\n",
    "|      |- *.css\n",
    "|      |- *.js\n",
    "|   |-- templates\n",
    "|      |- *.html\n",
    "|   |-- app.py\n",
    "|   |-- conda_env_twilio.yml\n",
    "|   |-- requirements.txt\n",
    "\n",
    "```"
   ]
  },
  {
   "cell_type": "markdown",
   "id": "e6931bbd",
   "metadata": {},
   "source": [
    "## Set Paths"
   ]
  },
  {
   "cell_type": "code",
   "execution_count": null,
   "id": "03385e72",
   "metadata": {},
   "outputs": [],
   "source": [
    "# Set paths\n",
    "base_dir = pathlib.Path().absolute().parent\n",
    "\n",
    "# Path to all data directories\n",
    "data = pathlib.Path(base_dir/'datasets')\n",
    "\n",
    "# Path to credentials data\n",
    "credentials = data/'credentials'\n",
    "\n",
    "# Path to raw data\n",
    "raw = data/'raw'\n",
    "\n",
    "# Path to processed data\n",
    "processed = data/'processed'\n",
    "\n",
    "# Path to environment variables\n",
    "env_vars = pathlib.Path(base_dir/'env_vars')"
   ]
  },
  {
   "cell_type": "markdown",
   "id": "af9277b5",
   "metadata": {},
   "source": [
    "## Load Environment Vaiables\n",
    "All the sensitive user information are stored in a `.env.txt` file, which is loaded, using `dotenv`."
   ]
  },
  {
   "cell_type": "code",
   "execution_count": null,
   "id": "cbd75304",
   "metadata": {},
   "outputs": [],
   "source": [
    "# Load dotenv file\n",
    "load_dotenv(env_vars/'.env.txt')"
   ]
  },
  {
   "cell_type": "markdown",
   "id": "20c1f779",
   "metadata": {},
   "source": [
    "## Configure Flask App\n",
    "The flask app has a flask-mail app to send emails, which is configured with an `smtp` based mail testing software/website called, `Mailtrap`. It creats dummy emails, sender and receiver rather than acutally sending the emails but with the same conventions that apply to the real emails.\n",
    "\n",
    "The flask_login app tracks the login of the users to the application and used for session management and provide the endpoints from unauthorised access by an adversary."
   ]
  },
  {
   "cell_type": "code",
   "execution_count": null,
   "id": "7d573de6",
   "metadata": {},
   "outputs": [],
   "source": [
    "# Flask app\n",
    "app = Flask(__name__)\n",
    "# Configure a secret-key for the flask app\n",
    "app.config[\"SECRET_KEY\"] = secrets.token_hex(24)\n",
    "\n",
    "# Configure flask mail app\n",
    "app.config['MAIL_SERVER'] = 'smtp.mailtrap.io'\n",
    "app.config['MAIL_PORT'] = 2525\n",
    "app.config['MAIL_USERNAME'] = os.environ.get('MAIL_USERNAME')\n",
    "app.config['MAIL_PASSWORD'] = os.environ.get('MAIL_PASSWORD')\n",
    "app.config['MAIL_USE_TLS'] = True\n",
    "app.config['MAIL_USE_SSL'] = False\n",
    "\n",
    "# Create login_manager app\n",
    "login_manager = LoginManager(app)\n",
    "# Create mail app\n",
    "mail = Mail(app)\n",
    "\n",
    "# Create twilio client object\n",
    "account_sid = os.environ.get(\"TWILIO_ACCOUNT_SID\")\n",
    "auth_token = os.environ.get(\"TWILIO_AUTH_TOKEN\")\n",
    "client = Client(account_sid, auth_token)\n",
    "\n",
    "# Define a User class to store all the users from the .csv input files\n",
    "users: Dict[str, \"User\"] = {}\n",
    "\n",
    "class User(UserMixin):\n",
    "    def __init__(self, id: str, username: str, email: str, password: str):\n",
    "        self.id = id\n",
    "        self.username = username\n",
    "        self.email = email\n",
    "        self.password = password\n",
    "\n",
    "    @staticmethod\n",
    "    def get(user_id: str) -> Optional[\"User\"]:\n",
    "        return users.get(user_id)\n",
    "\n",
    "    def __str__(self) -> str:\n",
    "        return f\"<Id: {self.id}, Username: {self.username}, Email: {self.email}>\"\n",
    "\n",
    "    def __repr__(self) -> str:\n",
    "        return self.__str__()\n",
    "\n",
    "data = pd.read_csv(credentials/'login_credentials.csv')\n",
    "for index in data.index:\n",
    "    users[str(index)] = User(\n",
    "        id=index,\n",
    "        username=data.loc[index, \"first_name\"],\n",
    "        email=data.loc[index, \"email\"],\n",
    "        password=data.loc[index, \"password\"],\n",
    "    )\n",
    "\n",
    "###\n",
    "\"\"\"\n",
    "All the endpoints for the application goes here\n",
    "\"\"\"\n",
    "###\n",
    "\n",
    "if __name__ == '__main__':\n",
    "    app.run(debug=True)"
   ]
  },
  {
   "cell_type": "markdown",
   "id": "4ae0d236",
   "metadata": {},
   "source": [
    "## Endpoint for Showing Attendance"
   ]
  },
  {
   "cell_type": "code",
   "execution_count": null,
   "id": "7306a8e1",
   "metadata": {},
   "outputs": [],
   "source": [
    "# Endpoint for showing attendance\n",
    "@app.route('/check_attendance', methods=['GET', 'POST'])\n",
    "@login_required\n",
    "def check_attendance():  \n",
    "    message = None\n",
    "    df_courses = pd.read_csv(credentials/'courses.csv')\n",
    "    df_timetable = pd.read_csv(credentials/'timetable.csv', parse_dates=['week_start', 'week_end'], infer_datetime_format=True)\n",
    "    courses = df_courses.course_name.dropna().unique()\n",
    "    weeks = list(df_timetable.academic_week.dropna().unique())\n",
    "\n",
    "    if request.method == 'POST':\n",
    "        course_name =request.form['comp_select']\n",
    "        course_code = df_courses.loc[df_courses.course_name == course_name, 'course_code'].squeeze()\n",
    "        semester = int(request.form['comp_select1'])\n",
    "        academic_week = int(request.form['comp_select2'])\n",
    "\n",
    "        file_name = f'{course_code}_semester_{semester}_week_{academic_week}_attendance.csv'\n",
    "\n",
    "        if (processed/'attendance'/file_name).exists():\n",
    "        \n",
    "            df = pd.read_csv(processed/'attendance'/file_name).dropna()\n",
    "            headings = df.columns.values\n",
    "            headings = tuple(headings)\n",
    "\n",
    "            data = df.to_records(index=False)\n",
    "            data = tuple(data)\n",
    "            return render_template('table6.html', headings=headings, data=data, course_name=course_name, semester=semester, academic_week=academic_week)\n",
    "        else:\n",
    "            message = f\"No attendance found for '{course_name}', 'semester {semester}', 'week {academic_week}'! Please go to the 'Create Attendance' page to create an attendance.\"\n",
    "            return render_template('check_attendance.html', message=message, courses=courses, weeks=weeks)\n",
    "    return render_template('check_attendance.html', message=message, courses=courses, weeks=weeks)"
   ]
  },
  {
   "cell_type": "markdown",
   "id": "f91cf14f",
   "metadata": {},
   "source": [
    "## Endpoint for Showing Spammed Attendance"
   ]
  },
  {
   "cell_type": "code",
   "execution_count": null,
   "id": "21901805",
   "metadata": {},
   "outputs": [],
   "source": [
    "# Endpoint for showing spammed attendance\n",
    "@app.route('/check_spams', methods=['GET', 'POST'])\n",
    "@login_required\n",
    "def check_spams():  \n",
    "    message = None\n",
    "    df_courses = pd.read_csv(credentials/'courses.csv')\n",
    "    df_timetable = pd.read_csv(credentials/'timetable.csv', parse_dates=['week_start', 'week_end'], infer_datetime_format=True)\n",
    "    courses = df_courses.course_name.dropna().unique()\n",
    "    weeks = list(df_timetable.academic_week.dropna().unique())\n",
    "\n",
    "    if request.method == 'POST':\n",
    "        course_name =request.form['comp_select']\n",
    "        course_code = df_courses.loc[df_courses.course_name == course_name, 'course_code'].squeeze()\n",
    "        semester = int(request.form['comp_select1'])\n",
    "        academic_week = int(request.form['comp_select2'])\n",
    "\n",
    "        file_name_spam = f'{course_code}_semester_{semester}_week_{academic_week}_spammed.csv'\n",
    "\n",
    "        if (processed/'spam'/file_name_spam).exists():\n",
    "        \n",
    "            df = pd.read_csv(processed/'spam'/file_name_spam).dropna(how='all')\n",
    "            headings = df.columns.values\n",
    "            headings = tuple(headings)\n",
    "\n",
    "            data = df.to_records(index=False)\n",
    "            data = tuple(data)\n",
    "            return render_template('table7.html', headings=headings, data=data, course_name=course_name, semester=semester, academic_week=academic_week)\n",
    "        else:\n",
    "            message = f\"No spams found for '{course_name}', 'semester {semester}', 'week {academic_week}'! Please go to the 'Create Attendance' page to create an attendance.\"\n",
    "            return render_template('check_spams.html', message=message, courses=courses, weeks=weeks)\n",
    "    return render_template('check_spams.html', message=message, courses=courses, weeks=weeks)"
   ]
  },
  {
   "cell_type": "markdown",
   "id": "66d487c8",
   "metadata": {},
   "source": [
    "## Endpoint for Displaying Phone Number"
   ]
  },
  {
   "cell_type": "code",
   "execution_count": null,
   "id": "e9372297",
   "metadata": {},
   "outputs": [],
   "source": [
    "# Endpoint for displaying phone number\n",
    "@app.route('/display_number', methods=['GET', 'POST'])\n",
    "@login_required\n",
    "def display_number():  \n",
    "    message = None\n",
    "    df_courses = pd.read_csv(credentials/'courses.csv')\n",
    "    courses = df_courses.course_name.dropna().unique()\n",
    "    number = os.environ.get('TWILIO_PHONE_NUMBER')\n",
    "    if request.method == 'POST':\n",
    "        course_name =request.form['comp_select']\n",
    "        course_code = df_courses.loc[df_courses.course_name == course_name, 'course_code'].squeeze()\n",
    "        start_time = df_courses.loc[df_courses.course_name == course_name, 'start_time'].squeeze()\n",
    "        end_time = df_courses.loc[df_courses.course_name == course_name, 'end_time'].squeeze()\n",
    "        duration = f'{start_time}-{end_time}'\n",
    "        return render_template('display_number.html', message=message, courses=courses, course_code=course_code, duration=duration, number=number)\n",
    "    return render_template('display_number.html', message=message, courses=courses)"
   ]
  },
  {
   "cell_type": "markdown",
   "id": "d692e716",
   "metadata": {},
   "source": [
    "## Endpoint for Sending Reminder"
   ]
  },
  {
   "cell_type": "code",
   "execution_count": null,
   "id": "f034bc73",
   "metadata": {},
   "outputs": [],
   "source": [
    "# Endpoint for sending reminder\n",
    "@app.route('/send_reminder', methods=['GET', 'POST'])\n",
    "@login_required\n",
    "def send_reminder():  \n",
    "    message = None\n",
    "    df_courses = pd.read_csv(credentials/'courses.csv')\n",
    "    courses = df_courses.course_name.dropna().unique()\n",
    "    number = os.environ.get('TWILIO_PHONE_NUMBER')\n",
    "    if request.method == 'POST':\n",
    "        course_name =request.form['comp_select']\n",
    "        course_code = df_courses.loc[df_courses.course_name == course_name, 'course_code'].squeeze()\n",
    "        start_time = df_courses.loc[df_courses.course_name == course_name, 'start_time'].squeeze()\n",
    "        end_time = df_courses.loc[df_courses.course_name == course_name, 'end_time'].squeeze()\n",
    "        duration = f'{start_time}-{end_time}'\n",
    "\n",
    "        file_name = f'{course_code}_enrolled_students.csv'\n",
    "        \n",
    "        df_students = pd.read_csv(credentials/'enrolled'/file_name)\n",
    "        for i in range(len(df_students)):\n",
    "            msg = Message(f\"Attendance Reminder '{course_name}'...\",\n",
    "                          sender=\"admin@attendance.lsbu.ac.uk\", recipients=[df_students.email[i]])\n",
    "            msg.body = f\"Hi {df_students.first_name[i]},\\n\\nPlease kindly register your attendance for '{course_name}' between {duration}.\\n\\nPlease kindly quote: '{df_students.student_id[i]} {course_code}' in your SMS and send to '{number}.'\\n\\nYou will receive an acknowledgment later for your attendance.\\n\\nShould you require any assistance, please contact your tutor.\\n\\nKind Regards,\\nAttendance Team\"\n",
    "            mail.send(msg)\n",
    "        message = f\"Reminder sent for '{course_name}!'\" \n",
    "        return render_template('send_reminder.html', message=message, courses=courses)\n",
    "    return render_template('send_reminder.html', message=message, courses=courses)"
   ]
  },
  {
   "cell_type": "markdown",
   "id": "c60a0899",
   "metadata": {},
   "source": [
    "### Summary\n",
    "In this notebook it was demonstrated how to:\n",
    "-  Import python all libraries and packages\n",
    "-  Set up the paths to the project directories\n",
    "-  Configure a flask application\n",
    "-  Configure falsk-mailing\n",
    "-  Configure flask-login and seesion management \n",
    "-  Define endpoints for flask application"
   ]
  },
  {
   "cell_type": "markdown",
   "id": "3338fb6f",
   "metadata": {},
   "source": [
    "<center><b>Author</b></center>\n",
    "\n",
    "| Name | Date Created | Last Modified |\n",
    "|------|--------------|---------------|\n",
    "|Khaled Ahmed | 30/01/2023 | 30/01/2023|"
   ]
  }
 ],
 "metadata": {
  "kernelspec": {
   "display_name": "Python 3 (ipykernel)",
   "language": "python",
   "name": "python3"
  },
  "language_info": {
   "codemirror_mode": {
    "name": "ipython",
    "version": 3
   },
   "file_extension": ".py",
   "mimetype": "text/x-python",
   "name": "python",
   "nbconvert_exporter": "python",
   "pygments_lexer": "ipython3",
   "version": "3.7.13"
  },
  "vscode": {
   "interpreter": {
    "hash": "8772fee82389021f9a06d07f6d962e66f66440103d20066f1d4e1f6e0bed6b66"
   }
  }
 },
 "nbformat": 4,
 "nbformat_minor": 5
}
