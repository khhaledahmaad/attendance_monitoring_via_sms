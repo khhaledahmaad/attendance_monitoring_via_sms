{
 "cells": [
  {
   "cell_type": "markdown",
   "id": "95007df4",
   "metadata": {},
   "source": [
    "![lsbu](https://storage-prtl-co.imgix.net/endor/organisations/11506/logos/1540893470_rsz_lsbu_crest_simple_white_text_horizon_blackoutline.jpg)"
   ]
  },
  {
   "cell_type": "markdown",
   "id": "d7b8a497",
   "metadata": {},
   "source": [
    "## Introduction\n",
    "This notebook shows how to configure the flask application, implementing the `Attendance monitoring via SMS` project. "
   ]
  },
  {
   "cell_type": "markdown",
   "id": "fc1c56c4",
   "metadata": {},
   "source": [
    "## Objectives\n",
    "-  Import python all libraries and packages\n",
    "-  Set up the paths to the project directories\n",
    "-  Configure a flask application\n",
    "-  Configure falsk-mailing\n",
    "-  Configure flask-login and seesion management \n",
    "-  Define endpoints for flask application"
   ]
  },
  {
   "cell_type": "markdown",
   "id": "2a04a2bc",
   "metadata": {},
   "source": [
    "## Configuartion\n",
    "\n",
    "Make sure you have the required environments and packages configured, as mentioned in the `01a_set_up_the_environments\n",
    "` notebook."
   ]
  },
  {
   "cell_type": "markdown",
   "id": "853f228b",
   "metadata": {},
   "source": [
    "## Import Libraries"
   ]
  },
  {
   "cell_type": "code",
   "execution_count": null,
   "id": "adf81391",
   "metadata": {},
   "outputs": [],
   "source": [
    "import os\n",
    "import re\n",
    "import pathlib\n",
    "import secrets\n",
    "import pandas as pd\n",
    "from typing import Dict, Optional\n",
    "from flask import Flask, request, render_template, redirect, url_for\n",
    "from flask_login import LoginManager, UserMixin, login_user, logout_user, login_required, current_user\n",
    "from bs4 import BeautifulSoup\n",
    "import altair as alt\n",
    "from flask_mail import Mail, Message\n",
    "from dotenv import load_dotenv\n",
    "from datetime import date, datetime\n",
    "from twilio.rest import Client"
   ]
  },
  {
   "cell_type": "markdown",
   "id": "f172b6cd",
   "metadata": {},
   "source": [
    "## Folder Structure\n",
    "```python\n",
    "|-- attendance_monioring_via_sms\n",
    "|   |-- .twilio\n",
    "|   |-- datasets\n",
    "|      |-- *.csv\n",
    "|   |-- docs\n",
    "|      |-- *.md\n",
    "|      |-- *.pdf\n",
    "|   |-- env_vars\n",
    "|      |-- .env.txt\n",
    "|   |-- images\n",
    "|      |-- *.png\n",
    "|   |-- nbs\n",
    "|      |-- *.ipynb \n",
    "|   |-- static\n",
    "|      |- *.css\n",
    "|      |- *.js\n",
    "|   |-- templates\n",
    "|      |- *.html\n",
    "|   |-- app.py\n",
    "|   |-- conda_env_twilio.yml\n",
    "|   |-- requirements.txt\n",
    "\n",
    "```"
   ]
  },
  {
   "cell_type": "markdown",
   "id": "e6931bbd",
   "metadata": {},
   "source": [
    "## Set Paths"
   ]
  },
  {
   "cell_type": "code",
   "execution_count": null,
   "id": "03385e72",
   "metadata": {},
   "outputs": [],
   "source": [
    "# Set paths\n",
    "base_dir = pathlib.Path().absolute().parent\n",
    "\n",
    "# Path to all data directories\n",
    "data = pathlib.Path(base_dir/'datasets')\n",
    "\n",
    "# Path to credentials data\n",
    "credentials = data/'credentials'\n",
    "\n",
    "# Path to raw data\n",
    "raw = data/'raw'\n",
    "\n",
    "# Path to processed data\n",
    "processed = data/'processed'\n",
    "\n",
    "# Path to environment variables\n",
    "env_vars = pathlib.Path(base_dir/'env_vars')"
   ]
  },
  {
   "cell_type": "markdown",
   "id": "af9277b5",
   "metadata": {},
   "source": [
    "## Load Environment Vaiables\n",
    "All the sensitive user information are stored in a `.env.txt` file, which is loaded, using `dotenv`."
   ]
  },
  {
   "cell_type": "code",
   "execution_count": null,
   "id": "cbd75304",
   "metadata": {},
   "outputs": [],
   "source": [
    "# Load dotenv file\n",
    "load_dotenv(env_vars/'.env.txt')"
   ]
  },
  {
   "cell_type": "markdown",
   "id": "20c1f779",
   "metadata": {},
   "source": [
    "## Configure Flask App\n",
    "The flask app has a flask-mail app to send emails, which is configured with an `smtp` based mail testing software/website called, `Mailtrap`. It creats dummy emails, sender and receiver rather than acutally sending the emails but with the same conventions that apply to the real emails.\n",
    "\n",
    "The flask_login app tracks the login of the users to the application and used for session management and provide the endpoints from unauthorised access by an adversary."
   ]
  },
  {
   "cell_type": "code",
   "execution_count": null,
   "id": "7d573de6",
   "metadata": {},
   "outputs": [],
   "source": [
    "# Flask app\n",
    "app = Flask(__name__)\n",
    "# Configure a secret-key for the flask app\n",
    "app.config[\"SECRET_KEY\"] = secrets.token_hex(24)\n",
    "\n",
    "# Configure flask mail app\n",
    "app.config['MAIL_SERVER'] = 'smtp.mailtrap.io'\n",
    "app.config['MAIL_PORT'] = 2525\n",
    "app.config['MAIL_USERNAME'] = os.environ.get('MAIL_USERNAME')\n",
    "app.config['MAIL_PASSWORD'] = os.environ.get('MAIL_PASSWORD')\n",
    "app.config['MAIL_USE_TLS'] = True\n",
    "app.config['MAIL_USE_SSL'] = False\n",
    "\n",
    "# Create login_manager app\n",
    "login_manager = LoginManager(app)\n",
    "# Create mail app\n",
    "mail = Mail(app)\n",
    "\n",
    "# Create twilio client object\n",
    "account_sid = os.environ.get(\"TWILIO_ACCOUNT_SID\")\n",
    "auth_token = os.environ.get(\"TWILIO_AUTH_TOKEN\")\n",
    "client = Client(account_sid, auth_token)\n",
    "\n",
    "# Define a User class to store all the users from the .csv input files\n",
    "users: Dict[str, \"User\"] = {}\n",
    "\n",
    "class User(UserMixin):\n",
    "    def __init__(self, id: str, username: str, email: str, password: str):\n",
    "        self.id = id\n",
    "        self.username = username\n",
    "        self.email = email\n",
    "        self.password = password\n",
    "\n",
    "    @staticmethod\n",
    "    def get(user_id: str) -> Optional[\"User\"]:\n",
    "        return users.get(user_id)\n",
    "\n",
    "    def __str__(self) -> str:\n",
    "        return f\"<Id: {self.id}, Username: {self.username}, Email: {self.email}>\"\n",
    "\n",
    "    def __repr__(self) -> str:\n",
    "        return self.__str__()\n",
    "\n",
    "data = pd.read_csv(credentials/'login_credentials.csv')\n",
    "for index in data.index:\n",
    "    users[str(index)] = User(\n",
    "        id=index,\n",
    "        username=data.loc[index, \"first_name\"],\n",
    "        email=data.loc[index, \"email\"],\n",
    "        password=data.loc[index, \"password\"],\n",
    "    )\n",
    "\n",
    "###\n",
    "\"\"\"\n",
    "All the endpoints for the application goes here\n",
    "\"\"\"\n",
    "###\n",
    "\n",
    "if __name__ == '__main__':\n",
    "    app.run(debug=True)"
   ]
  },
  {
   "cell_type": "markdown",
   "id": "f0b6566c",
   "metadata": {},
   "source": [
    "## Endpoint for Adding New Student"
   ]
  },
  {
   "cell_type": "code",
   "execution_count": null,
   "id": "453393a2",
   "metadata": {},
   "outputs": [],
   "source": [
    "# Endpoint for adding new students\n",
    "@app.route('/add_students', methods=['GET', 'POST'])\n",
    "@login_required\n",
    "def add_students():  \n",
    "    message = None\n",
    "    df_students = pd.read_csv(credentials/'students.csv')\n",
    "    if request.method == 'POST':\n",
    "        id =len(df_students)+1\n",
    "        student_id = request.form['student_id']\n",
    "        test = df_students.student_id.astype(str).isin([str(student_id)]).any()\n",
    "        if test:\n",
    "            message = 'Student ID exists! Please check the Student ID, or contact the administrator.'\n",
    "            return render_template('add_students.html', message=message)\n",
    "        if request.form['first_name'] == '':\n",
    "            message = 'First Name is required!'\n",
    "            return render_template('add_students.html', message=message)\n",
    "        elif request.form['last_name'] == '':\n",
    "            message = 'Last Name is required!'\n",
    "            return render_template('add_students.html', message=message)\n",
    "        elif request.form['student_id'] == '':\n",
    "            message = 'Student ID is required!'\n",
    "            return render_template('add_students.html', message=message)\n",
    "        elif request.form['email'] == '':\n",
    "                message = 'Email is required!'\n",
    "                return render_template('add_students.html', message=message)\n",
    "        elif ((str(request.form['student_id']).isdigit())==False) or (len(request.form['student_id'])!=6):\n",
    "            message = 'Student ID must be 6 digits!'\n",
    "            return render_template('add_students.html', message=message)\n",
    "        elif str(request.form['email']).endswith('@lsbu.ac.uk')==False: \n",
    "            message = 'Invalid Email! Please type a valid LSBU email.'\n",
    "            return render_template('add_students.html', message=message)\n",
    "        elif df_students.email.isin([str(request.form['email'])]).any(): \n",
    "                message = 'Student Exists! Please add a different Student.'\n",
    "                return render_template('add_students.html', message=message)\n",
    "        else:\n",
    "            first_name = request.form['first_name']\n",
    "            last_name = request.form['last_name']\n",
    "            student_id = request.form['student_id']\n",
    "            email = request.form['email']\n",
    "            \n",
    "            df = df_students.append({'id': id, 'first_name': first_name, 'last_name': last_name, 'student_id': student_id,\n",
    "            'email':email}, ignore_index=True)\n",
    "            df.to_csv(credentials/'students.csv', index=False)\n",
    "            message = \"Thanks for adding a new student!\"\n",
    "            return render_template('add_students.html', message=message)\n",
    "    return render_template('add_students.html')"
   ]
  },
  {
   "cell_type": "markdown",
   "id": "713fbc57",
   "metadata": {},
   "source": [
    "## Endpoint for Adding New Tutors"
   ]
  },
  {
   "cell_type": "code",
   "execution_count": null,
   "id": "fb1eee95",
   "metadata": {},
   "outputs": [],
   "source": [
    "# Endpoint for adding new tutors\n",
    "@app.route('/add_tutors', methods=['GET', 'POST'])\n",
    "@login_required\n",
    "def add_tutors():  \n",
    "    message = None\n",
    "    df_admins = pd.read_csv(credentials/'admins.csv')\n",
    "    id =len(df_admins)+1\n",
    "    if request.method == 'POST':\n",
    "        if request.form['first_name'] == '':\n",
    "            message = 'First Name is required!'\n",
    "            return render_template('add_tutors.html', message=message)\n",
    "        elif request.form['last_name'] == '':\n",
    "            message = 'Last Name is required!'\n",
    "            return render_template('add_tutors.html', message=message)\n",
    "        elif request.form['email'] == '':\n",
    "            message = 'Email is required!'\n",
    "            return render_template('add_tutors.html', message=message)\n",
    "        elif str(request.form['email']).endswith('@lsbu.ac.uk')==False: \n",
    "            message = 'Invalid Email! Please type a valid LSBU email.'\n",
    "            return render_template('add_tutors.html', message=message)\n",
    "        elif df_admins.email.isin([str(request.form['email'])]).any(): \n",
    "            message = 'Tutor Exists! Please add a different tutor.'\n",
    "            return render_template('add_tutors.html', message=message)\n",
    "        else:\n",
    "            try:\n",
    "                test = df_admins.loc[df_admins.email==current_user.email, 'admin_status'].values[0]=='Yes'\n",
    "            except:\n",
    "                message = 'This Account does not have the admin rights to add a new tutor. Please contact the system admin.'\n",
    "                return render_template('add_tutors.html', message=message)\n",
    "            if test:\n",
    "                first_name = request.form['first_name']\n",
    "                last_name = request.form['last_name']\n",
    "                email = request.form['email']\n",
    "                \n",
    "                df = df_admins.append({'id': id, 'first_name': first_name, 'last_name': last_name, 'email': email, \n",
    "                'description': 'Tutor', 'admin_status': 'No'}, ignore_index=True)\n",
    "                df.to_csv(credentials/'admins.csv', index=False)\n",
    "                message = \"Thanks for adding a new tutor!\"\n",
    "                return render_template('add_tutors.html', message=message)\n",
    "            else:\n",
    "                message = 'This Account does not have the admin rights to add a new tutor. Please contact the system admin.'\n",
    "                return render_template('add_tutors.html', message=message) \n",
    "    return render_template('add_tutors.html')"
   ]
  },
  {
   "cell_type": "markdown",
   "id": "19421f0b",
   "metadata": {},
   "source": [
    "## Endpoint for Adding New Course"
   ]
  },
  {
   "cell_type": "code",
   "execution_count": null,
   "id": "4ee21afb",
   "metadata": {},
   "outputs": [],
   "source": [
    "# Endpoint for adding new courses\n",
    "@app.route('/add_course', methods=['GET', 'POST'])\n",
    "@login_required\n",
    "def add_course():  \n",
    "    message = None\n",
    "    df_admins = pd.read_csv(credentials/'admins.csv')\n",
    "    df_courses = pd.read_csv(credentials/'courses.csv')\n",
    "    days = ['Monday', 'Tuesday', 'Wednesday', 'Thursday', 'Friday']\n",
    "    times = [f'{i:02d}:{0:02d}' for i in range(9,19)]\n",
    "    length = range(1, 4)\n",
    "    id_courses =len(df_courses)+1\n",
    "    id_admins = len(df_admins)+1\n",
    "    if request.method == 'POST':\n",
    "        if request.form['course_name'] == '':\n",
    "            message = 'Course Name is required!'\n",
    "            return render_template('add_new_course.html', message=message, days=days, times=times, length=length)\n",
    "        elif request.form['tutor_name'] == '':\n",
    "            message = 'Tutor Name is required!'\n",
    "            return render_template('add_new_course.html', message=message, days=days, times=times, length=length)\n",
    "        elif request.form['email'] == '':\n",
    "            message = 'Email is required!'\n",
    "            return render_template('add_new_course.html', message=message, days=days, times=times, length=length)\n",
    "        elif str(request.form['email']).endswith('@lsbu.ac.uk')==False: \n",
    "            message = 'Invalid Email! Please type a valid LSBU email.'\n",
    "            return render_template('add_new_course.html', message=message, days=days, times=times, length=length)\n",
    "        elif len(str(request.form['tutor_name']).split(' ')) == 1:\n",
    "            message = 'Tutor Name should at least contain the firstname and surname'\n",
    "            return render_template('add_new_course.html', message=message, days=days, times=times, length=length)\n",
    "        elif df_courses.course_name.isin([str(request.form['course_name'])]).any(): \n",
    "            message = 'Course Exists! Please add a different Course.'\n",
    "            return render_template('add_new_course.html', message=message, days=days, times=times, length=length)\n",
    "        else:\n",
    "            try:\n",
    "                test = df_admins.loc[df_admins.email==current_user.email, 'admin_status'].values[0]=='Yes'\n",
    "            except:\n",
    "                message = 'This Account does not have the admin rights to add a new course. Please contact the system admin.'\n",
    "                return render_template('add_new_course.html', message=message, days=days, times=times, length=length)\n",
    "            if test:\n",
    "                course_name = request.form['course_name']\n",
    "                course_code = df_courses.course_code.max()+1\n",
    "                tutor = request.form['tutor_name']\n",
    "                email = request.form['email']\n",
    "                teaching_day = request.form['teaching_day']\n",
    "                start_time = request.form['start_time']\n",
    "                duration = request.form['duration']\n",
    "                end_time = (pd.to_datetime(pd.Series([f'{start_time}'])) + pd.Timedelta(f\"{duration} hour\")).dt.strftime('%H:%M')[0]\n",
    "                \n",
    "                df_courses = df_courses.append({'id': id_courses, 'course_name': course_name, 'course_code': course_code, 'tutor': tutor, \n",
    "                'email': email, 'teaching_day': teaching_day, 'start_time': start_time, 'end_time': end_time}, ignore_index=True)\n",
    "                df_courses.to_csv(credentials/'courses.csv', index=False)\n",
    "                message = f\"Thanks for adding a new course! The course code is: {int(course_code)}.\"\n",
    "\n",
    "                if not(df_admins.email.isin([email]).any()):\n",
    "                    df_admins = df_admins.append({'id': id_admins, 'first_name': str(tutor).split()[0], 'last_name': str(tutor).split()[1],\n",
    "                    'email': email, 'description': 'Tutor', 'admin_status': 'No'}, ignore_index=True)\n",
    "                    df_admins.to_csv(credentials/'admins.csv', index=False)\n",
    "                return render_template('add_new_course.html', message=message, days=days, times=times, length=length)\n",
    "            else:\n",
    "                message = 'This Account does not have the admin rights to add a new course. Please contact the system admin.'\n",
    "                return render_template('add_new_course.html', message=message, days=days, times=times, length=length) \n",
    "    return render_template('add_new_course.html', days=days, times=times, length=length)"
   ]
  },
  {
   "cell_type": "markdown",
   "id": "b9adbea1",
   "metadata": {},
   "source": [
    "## Endpoint for Updating a Course Details"
   ]
  },
  {
   "cell_type": "code",
   "execution_count": null,
   "id": "aa207add",
   "metadata": {},
   "outputs": [],
   "source": [
    "# Endpoint for updating a courses\n",
    "@app.route('/update_course', methods=['GET', 'POST'])\n",
    "@login_required\n",
    "def update_course():  \n",
    "    message = None\n",
    "    df_admins = pd.read_csv(credentials/'admins.csv')\n",
    "    df_courses = pd.read_csv(credentials/'courses.csv')\n",
    "    courses = df_courses.course_name.dropna().unique()\n",
    "    days = ['Monday', 'Tuesday', 'Wednesday', 'Thursday', 'Friday']\n",
    "    times = [f'{i:02d}:{0:02d}' for i in range(9,19)]\n",
    "    length = range(1, 4)\n",
    "\n",
    "    if request.method == 'POST':\n",
    "        try:\n",
    "            test = df_admins.loc[df_admins.email==current_user.email, 'admin_status'].values[0]=='Yes'\n",
    "        except:\n",
    "            message = 'This Account does not have the admin rights to update a course. Please contact the system admin.'\n",
    "            return render_template('update_course.html', message=message, courses=courses, days=days, times=times, length=length)\n",
    "        if test:\n",
    "            course_name = request.form['comp_select']\n",
    "            teaching_day = request.form['comp_select1']\n",
    "            start_time = request.form['comp_select2']\n",
    "            duration = request.form['comp_select3']\n",
    "            end_time = (pd.to_datetime(pd.Series([f'{start_time}'])) + pd.Timedelta(f\"{duration} hour\")).dt.strftime('%H:%M').squeeze()\n",
    "\n",
    "            index = df_courses.loc[df_courses.course_name==course_name].index.values[0]\n",
    "\n",
    "            df_courses.loc[index, 'teaching_day'] = teaching_day\n",
    "            df_courses.loc[index, 'start_time'] = start_time\n",
    "            df_courses.loc[index, 'end_time'] = end_time\n",
    "            df_courses.to_csv(credentials/'courses.csv', index=False)\n",
    "\n",
    "            message = f\"Thanks for updating the course '{course_name}.' Please go to the 'Course List' to check the changes.\" \n",
    "            return render_template('update_course.html', message=message, courses=courses, days=days, times=times, length=length)\n",
    "        else:\n",
    "            message = 'This Account does not have the admin rights to update a course. Please contact the system admin.'\n",
    "            return render_template('update_course.html', message=message, courses=courses, days=days, times=times, length=length)\n",
    "    return render_template('update_course.html', courses=courses, days=days, times=times, length=length)"
   ]
  },
  {
   "cell_type": "markdown",
   "id": "324dd8c9",
   "metadata": {},
   "source": [
    "The other endpoints are discussed in the later notebooks."
   ]
  },
  {
   "cell_type": "markdown",
   "id": "c60a0899",
   "metadata": {},
   "source": [
    "### Summary\n",
    "In this notebook it was demonstrated how to:\n",
    "-  Import python all libraries and packages\n",
    "-  Set up the paths to the project directories\n",
    "-  Configure a flask application\n",
    "-  Configure falsk-mailing\n",
    "-  Configure flask-login and seesion management \n",
    "-  Define endpoints for flask application"
   ]
  },
  {
   "cell_type": "markdown",
   "id": "3338fb6f",
   "metadata": {},
   "source": [
    "<center><b>Author</b></center>\n",
    "\n",
    "| Name | Date Created | Last Modified |\n",
    "|------|--------------|---------------|\n",
    "|Khaled Ahmed | 30/01/2023 | 30/01/2023|"
   ]
  }
 ],
 "metadata": {
  "kernelspec": {
   "display_name": "Python 3 (ipykernel)",
   "language": "python",
   "name": "python3"
  },
  "language_info": {
   "codemirror_mode": {
    "name": "ipython",
    "version": 3
   },
   "file_extension": ".py",
   "mimetype": "text/x-python",
   "name": "python",
   "nbconvert_exporter": "python",
   "pygments_lexer": "ipython3",
   "version": "3.7.13"
  },
  "vscode": {
   "interpreter": {
    "hash": "8772fee82389021f9a06d07f6d962e66f66440103d20066f1d4e1f6e0bed6b66"
   }
  }
 },
 "nbformat": 4,
 "nbformat_minor": 5
}
