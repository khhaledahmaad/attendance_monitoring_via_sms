{
 "cells": [
  {
   "cell_type": "markdown",
   "id": "d9b5b084",
   "metadata": {},
   "source": [
    "![logo](https://github.com/khhaledahmaad/attendance_monitoring_via_sms/blob/main/images/lsbu%20logo.png)"
   ]
  },
  {
   "cell_type": "markdown",
   "id": "9ae03214",
   "metadata": {},
   "source": [
    "## Configuration"
   ]
  },
  {
   "cell_type": "markdown",
   "id": "85e13124",
   "metadata": {},
   "source": [
    "Please follow [01a_set_up_the_environments.ipynb](https://github.com/khhaledahmaad/attendance_monitoring_via_sms/blob/main/nbs/01a_set_up_the_environments.ipynb) to configure and run the `Flask` application."
   ]
  },
  {
   "cell_type": "markdown",
   "id": "26eb1232",
   "metadata": {},
   "source": [
    "## Login Page\n",
    "![login](https://github.com/khhaledahmaad/attendance_monitoring_via_sms/blob/main/images/login.png)"
   ]
  },
  {
   "cell_type": "markdown",
   "id": "043d45c3",
   "metadata": {},
   "source": [
    "## Register Page\n",
    "![register](https://github.com/khhaledahmaad/attendance_monitoring_via_sms/blob/main/images/register.png)"
   ]
  },
  {
   "cell_type": "markdown",
   "id": "24dc3e79",
   "metadata": {},
   "source": [
    "## Retrieve Password Page\n",
    "![ret pass](https://github.com/khhaledahmaad/attendance_monitoring_via_sms/blob/main/images/ret%20pass.png)"
   ]
  },
  {
   "cell_type": "markdown",
   "id": "02af6a28",
   "metadata": {},
   "source": [
    "## Home Page\n",
    "![home](https://github.com/khhaledahmaad/attendance_monitoring_via_sms/blob/main/images/home.png)"
   ]
  },
  {
   "cell_type": "markdown",
   "id": "c69670b5",
   "metadata": {},
   "source": [
    "## Chart\n",
    "![chart](https://github.com/khhaledahmaad/attendance_monitoring_via_sms/blob/main/images/chart.png)"
   ]
  },
  {
   "cell_type": "markdown",
   "id": "80e9af59",
   "metadata": {},
   "source": [
    "## About Page\n",
    "![about](https://github.com/khhaledahmaad/attendance_monitoring_via_sms/blob/main/images/about.png)"
   ]
  },
  {
   "cell_type": "markdown",
   "id": "d1e83fa8",
   "metadata": {},
   "source": [
    "## Contact Page\n",
    "![contact](https://github.com/khhaledahmaad/attendance_monitoring_via_sms/blob/main/images/contact.png)"
   ]
  },
  {
   "cell_type": "markdown",
   "id": "87230aa5",
   "metadata": {},
   "source": [
    "## Tables\n",
    "Example table:\n",
    "![table](https://github.com/khhaledahmaad/attendance_monitoring_via_sms/blob/main/images/table.png)"
   ]
  },
  {
   "cell_type": "markdown",
   "id": "659d0cdc",
   "metadata": {},
   "source": [
    "## Forms\n",
    "Example input forms:\n",
    "![form](https://github.com/khhaledahmaad/attendance_monitoring_via_sms/blob/main/images/form.png)"
   ]
  }
 ],
 "metadata": {
  "kernelspec": {
   "display_name": "twilio",
   "language": "python",
   "name": "twilio"
  },
  "language_info": {
   "codemirror_mode": {
    "name": "ipython",
    "version": 3
   },
   "file_extension": ".py",
   "mimetype": "text/x-python",
   "name": "python",
   "nbconvert_exporter": "python",
   "pygments_lexer": "ipython3",
   "version": "3.7.13"
  }
 },
 "nbformat": 4,
 "nbformat_minor": 5
}
