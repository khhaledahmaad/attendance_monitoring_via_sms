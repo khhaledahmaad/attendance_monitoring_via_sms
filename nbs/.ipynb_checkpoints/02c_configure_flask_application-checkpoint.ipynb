{
 "cells": [
  {
   "cell_type": "markdown",
   "id": "98e2243a",
   "metadata": {},
   "source": [
    "## 2.c Configure Flask Application"
   ]
  },
  {
   "cell_type": "markdown",
   "id": "8f62442a",
   "metadata": {},
   "source": [
    "**GitHub Link:** [2.c Configure Flask Application](https://github.com/khhaledahmaad/attendance_monitoring_via_sms/blob/main/nbs/02c_configure_flask_application.ipynb)"
   ]
  },
  {
   "cell_type": "code",
   "execution_count": null,
   "id": "f155a0d4",
   "metadata": {},
   "outputs": [],
   "source": []
  },
  {
   "cell_type": "code",
   "execution_count": null,
   "id": "9771ebad",
   "metadata": {},
   "outputs": [],
   "source": []
  },
  {
   "cell_type": "code",
   "execution_count": null,
   "id": "0d967cd7",
   "metadata": {},
   "outputs": [],
   "source": []
  },
  {
   "attachments": {
    "lsbu%20logo.png": {
     "image/png": "[encoded data removed]"
    }
   },
   "cell_type": "markdown",
   "id": "95007df4",
   "metadata": {},
   "source": [
    "![lsbu%20logo.png](attachment:lsbu%20logo.png)"
   ]
  },
  {
   "cell_type": "code",
   "execution_count": null,
   "id": "657a5de3",
   "metadata": {},
   "outputs": [],
   "source": []
  },
  {
   "cell_type": "code",
   "execution_count": null,
   "id": "ce5d15b3",
   "metadata": {},
   "outputs": [],
   "source": []
  },
  {
   "cell_type": "code",
   "execution_count": null,
   "id": "4727e210",
   "metadata": {},
   "outputs": [],
   "source": []
  },
  {
   "cell_type": "code",
   "execution_count": null,
   "id": "2ba4321a",
   "metadata": {},
   "outputs": [],
   "source": []
  },
  {
   "cell_type": "markdown",
   "id": "18200287",
   "metadata": {},
   "source": [
    "**Student Name:** Khaled Ahmed"
   ]
  },
  {
   "cell_type": "markdown",
   "id": "2e5e5c81",
   "metadata": {},
   "source": [
    "**Student ID:** 3821656"
   ]
  },
  {
   "cell_type": "markdown",
   "id": "c4d475ba",
   "metadata": {},
   "source": [
    "**Project Title:** Attendance Monitoring via SMS   "
   ]
  },
  {
   "cell_type": "markdown",
   "id": "6b9cff82",
   "metadata": {},
   "source": [
    "**Course:** BEng Hons Computer Engineering"
   ]
  },
  {
   "cell_type": "markdown",
   "id": "19a4a01e",
   "metadata": {},
   "source": [
    "**Project Supervisor:** Dr Oswaldo Cadenas"
   ]
  },
  {
   "cell_type": "code",
   "execution_count": null,
   "id": "783e2119",
   "metadata": {},
   "outputs": [],
   "source": []
  },
  {
   "cell_type": "code",
   "execution_count": null,
   "id": "4f6498a6",
   "metadata": {},
   "outputs": [],
   "source": []
  },
  {
   "cell_type": "code",
   "execution_count": null,
   "id": "431607dc",
   "metadata": {},
   "outputs": [],
   "source": []
  },
  {
   "cell_type": "markdown",
   "id": "d7b8a497",
   "metadata": {},
   "source": [
    "## Introduction\n",
    "This notebook shows how to configure the flask application, implementing the `Attendance monitoring via SMS` project. "
   ]
  },
  {
   "cell_type": "markdown",
   "id": "fc1c56c4",
   "metadata": {},
   "source": [
    "## Objectives\n",
    "-  Import python all libraries and packages\n",
    "-  Set up the paths to the project directories\n",
    "-  Configure a flask application\n",
    "-  Configure falsk-mailing\n",
    "-  Configure flask-login and seesion management \n",
    "-  Define endpoints for flask application"
   ]
  },
  {
   "cell_type": "markdown",
   "id": "2a04a2bc",
   "metadata": {},
   "source": [
    "## Configuartion\n",
    "\n",
    "Make sure you have the required environments and packages configured, as mentioned in the `01a_set_up_the_environments\n",
    "` notebook."
   ]
  },
  {
   "cell_type": "markdown",
   "id": "853f228b",
   "metadata": {},
   "source": [
    "## Import Libraries"
   ]
  },
  {
   "cell_type": "code",
   "execution_count": null,
   "id": "adf81391",
   "metadata": {},
   "outputs": [],
   "source": [
    "import os\n",
    "import re\n",
    "import pathlib\n",
    "import secrets\n",
    "import pandas as pd\n",
    "from typing import Dict, Optional\n",
    "from flask import Flask, request, render_template, redirect, url_for\n",
    "from flask_login import LoginManager, UserMixin, login_user, logout_user, login_required, current_user\n",
    "from bs4 import BeautifulSoup\n",
    "import altair as alt\n",
    "from flask_mail import Mail, Message\n",
    "from dotenv import load_dotenv\n",
    "from datetime import date, datetime\n",
    "from twilio.rest import Client"
   ]
  },
  {
   "cell_type": "markdown",
   "id": "f172b6cd",
   "metadata": {},
   "source": [
    "## Folder Structure\n",
    "```python\n",
    "|-- attendance_monioring_via_sms\n",
    "|   |-- .twilio\n",
    "|   |-- datasets\n",
    "|      |-- *.csv\n",
    "|   |-- docs\n",
    "|      |-- *.md\n",
    "|      |-- *.pdf\n",
    "|   |-- env_vars\n",
    "|      |-- .env.txt\n",
    "|   |-- images\n",
    "|      |-- *.png\n",
    "|   |-- nbs\n",
    "|      |-- *.ipynb \n",
    "|   |-- static\n",
    "|      |- *.css\n",
    "|      |- *.js\n",
    "|   |-- templates\n",
    "|      |- *.html\n",
    "|   |-- app.py\n",
    "|   |-- conda_env_twilio.yml\n",
    "|   |-- requirements.txt\n",
    "\n",
    "```"
   ]
  },
  {
   "cell_type": "markdown",
   "id": "e6931bbd",
   "metadata": {},
   "source": [
    "## Set Paths"
   ]
  },
  {
   "cell_type": "code",
   "execution_count": null,
   "id": "03385e72",
   "metadata": {},
   "outputs": [],
   "source": [
    "# Set paths\n",
    "base_dir = pathlib.Path().absolute().parent\n",
    "\n",
    "# Path to all data directories\n",
    "data = pathlib.Path(base_dir/'datasets')\n",
    "\n",
    "# Path to credentials data\n",
    "credentials = data/'credentials'\n",
    "\n",
    "# Path to raw data\n",
    "raw = data/'raw'\n",
    "\n",
    "# Path to processed data\n",
    "processed = data/'processed'\n",
    "\n",
    "# Path to environment variables\n",
    "env_vars = pathlib.Path(base_dir/'env_vars')"
   ]
  },
  {
   "cell_type": "markdown",
   "id": "af9277b5",
   "metadata": {},
   "source": [
    "## Load Environment Vaiables\n",
    "All the sensitive user information are stored in a `.env.txt` file, which is loaded, using `dotenv`."
   ]
  },
  {
   "cell_type": "code",
   "execution_count": null,
   "id": "cbd75304",
   "metadata": {},
   "outputs": [],
   "source": [
    "# Load dotenv file\n",
    "load_dotenv(env_vars/'.env.txt')"
   ]
  },
  {
   "cell_type": "markdown",
   "id": "20c1f779",
   "metadata": {},
   "source": [
    "## Configure Flask App\n",
    "The flask app has a flask-mail app to send emails, which is configured with an `smtp` based mail testing software/website called, `Mailtrap`. It creats dummy emails, sender and receiver rather than acutally sending the emails but with the same conventions that apply to the real emails.\n",
    "\n",
    "The flask_login app tracks the login of the users to the application and used for session management and provide the endpoints from unauthorised access by an adversary."
   ]
  },
  {
   "cell_type": "code",
   "execution_count": null,
   "id": "7d573de6",
   "metadata": {},
   "outputs": [],
   "source": [
    "# Flask app\n",
    "app = Flask(__name__)\n",
    "# Configure a secret-key for the flask app\n",
    "app.config[\"SECRET_KEY\"] = secrets.token_hex(24)\n",
    "\n",
    "# Configure flask mail app\n",
    "app.config['MAIL_SERVER'] = 'smtp.mailtrap.io'\n",
    "app.config['MAIL_PORT'] = 2525\n",
    "app.config['MAIL_USERNAME'] = os.environ.get('MAIL_USERNAME')\n",
    "app.config['MAIL_PASSWORD'] = os.environ.get('MAIL_PASSWORD')\n",
    "app.config['MAIL_USE_TLS'] = True\n",
    "app.config['MAIL_USE_SSL'] = False\n",
    "\n",
    "# Create login_manager app\n",
    "login_manager = LoginManager(app)\n",
    "# Create mail app\n",
    "mail = Mail(app)\n",
    "\n",
    "# Create twilio client object\n",
    "account_sid = os.environ.get(\"TWILIO_ACCOUNT_SID\")\n",
    "auth_token = os.environ.get(\"TWILIO_AUTH_TOKEN\")\n",
    "client = Client(account_sid, auth_token)\n",
    "\n",
    "# Define a User class to store all the users from the .csv input files\n",
    "users: Dict[str, \"User\"] = {}\n",
    "\n",
    "class User(UserMixin):\n",
    "    def __init__(self, id: str, username: str, email: str, password: str):\n",
    "        self.id = id\n",
    "        self.username = username\n",
    "        self.email = email\n",
    "        self.password = password\n",
    "\n",
    "    @staticmethod\n",
    "    def get(user_id: str) -> Optional[\"User\"]:\n",
    "        return users.get(user_id)\n",
    "\n",
    "    def __str__(self) -> str:\n",
    "        return f\"<Id: {self.id}, Username: {self.username}, Email: {self.email}>\"\n",
    "\n",
    "    def __repr__(self) -> str:\n",
    "        return self.__str__()\n",
    "\n",
    "data = pd.read_csv(credentials/'login_credentials.csv')\n",
    "for index in data.index:\n",
    "    users[str(index)] = User(\n",
    "        id=index,\n",
    "        username=data.loc[index, \"first_name\"],\n",
    "        email=data.loc[index, \"email\"],\n",
    "        password=data.loc[index, \"password\"],\n",
    "    )\n",
    "\n",
    "###\n",
    "\"\"\"\n",
    "All the endpoints for the application goes here\n",
    "\"\"\"\n",
    "###\n",
    "\n",
    "if __name__ == '__main__':\n",
    "    app.run(debug=True)"
   ]
  },
  {
   "cell_type": "markdown",
   "id": "f0b6566c",
   "metadata": {},
   "source": [
    "## Endpoint for Creating a New Timetable"
   ]
  },
  {
   "cell_type": "code",
   "execution_count": null,
   "id": "3814285f",
   "metadata": {},
   "outputs": [],
   "source": [
    "# Endpoint for creating new timetable\n",
    "@app.route('/create_timetable', methods=['GET', 'POST'])\n",
    "@login_required\n",
    "def create_timetable():  \n",
    "    message = None\n",
    "    df_admins = pd.read_csv(credentials/'admins.csv')\n",
    "\n",
    "    years =  [str(date.today().year-1)+'-'+str(date.today().year)[2:], str(date.today().year)+'-'+str(date.today().year+1)[2:]]\n",
    "    year_dict = {str(date.today().year-1)+'-'+str(date.today().year)[2:]: [date.today().year-1, date.today().year], str(date.today().year)+'-'+str(date.today().year+1)[2:]: [date.today().year, date.today().year+1]}\n",
    "\n",
    "    if request.method == 'POST':\n",
    "        year = request.form['year']\n",
    "        year_1 = year_dict[year][0]\n",
    "        year_2 = year_dict[year][1]\n",
    "\n",
    "        total_academcic_week = int(request.form['total_weeks'])\n",
    "        sem1_start = request.form['sem1_start']\n",
    "        sem2_start = request.form['sem2_start']\n",
    "        number_of_holiday_week1 = int(request.form['holiday_week1'])\n",
    "        number_of_holiday_week2 = int(request.form['holiday_week2'])\n",
    "        sem1_holiday_start = request.form['sem1_holiday_start']\n",
    "        sem2_holiday_start = request.form['sem2_holiday_start']\n",
    "\n",
    "        m = re.fullmatch('\\d{4,4}-\\d{2,2}-\\d{2,2}', sem1_start)\n",
    "        n = m = re.fullmatch('\\d{4,4}-\\d{2,2}-\\d{2,2}', sem2_start)\n",
    "        m_ = re.fullmatch('\\d{4,4}-\\d{2,2}-\\d{2,2}', sem1_holiday_start)\n",
    "        n_ = re.fullmatch('\\d{4,4}-\\d{2,2}-\\d{2,2}', sem2_holiday_start)\n",
    "\n",
    "        if sem1_start == '':\n",
    "            message = message = 'Semester 1 Start Date is required!'\n",
    "            return render_template('create_timetable.html', message=message, years=years)\n",
    "        if sem1_holiday_start == '':\n",
    "            message = message = 'Semester 2 Holiday Start Date is required!'\n",
    "            return render_template('create_timetable.html', message=message, years=years)\n",
    "        elif sem2_start == '':\n",
    "            message = message = 'Semester 2 Start Date is required!'\n",
    "            return render_template('create_timetable.html', message=message, years=years)\n",
    "        elif sem2_holiday_start == '':\n",
    "            message = message = 'Semester 2 Holiday Start Date is required!'\n",
    "            return render_template('create_timetable.html', message=message, years=years)\n",
    "        elif m == None:\n",
    "            message = message = 'Semester 1 Start Date must be in \\'YYYY-MM-DD\\' format!'\n",
    "            return render_template('create_timetable.html', message=message, years=years)\n",
    "        elif m_ == None:\n",
    "            message = message = 'Semester 1 Holiday Start Date must be in \\'YYYY-MM-DD\\' format!'\n",
    "            return render_template('create_timetable.html', message=message, years=years)\n",
    "        elif n == None:\n",
    "            message = message = 'Semester 2 Start Date must be in \\'YYYY-MM-DD\\' format!'\n",
    "            return render_template('create_timetable.html', message=message, years=years)\n",
    "        elif n_ == None:\n",
    "            message = message = 'Semester 2 Holiday Start Date must be in \\'YYYY-MM-DD\\' format!'\n",
    "            return render_template('create_timetable.html', message=message, years=years)\n",
    "        else:\n",
    "            m_year = int(sem1_start[:4])\n",
    "            m_month = int(sem1_start[5:7])\n",
    "            m_year_ = int(sem1_holiday_start[:4])\n",
    "            m_month_ = int(sem1_holiday_start[5:7])\n",
    "            n_year = int(sem2_start[:4])\n",
    "            n_month = int(sem2_start[5:7])\n",
    "            n_year_ = int(sem2_holiday_start[:4])\n",
    "            n_month_ = int(sem2_holiday_start[5:7])\n",
    "            if m_year != year_1 or m_month != 9:\n",
    "                message = message = f\"Semester 1 Start Date must be in 'September' {year_1}!\"\n",
    "                return render_template('create_timetable.html', message=message, years=years)\n",
    "            elif m_year_ != year_1 or m_month_ != 12:\n",
    "                message = message = f\"Semester 1 Holiday Start Date must be in 'December' {year_1}!\"\n",
    "                return render_template('create_timetable.html', message=message, years=years)\n",
    "            if n_year != year_2 or n_month != 1:\n",
    "                message = message = f\"Semester 2 Start Date must be in 'January' {year_2}!\"\n",
    "                return render_template('create_timetable.html', message=message, years=years)\n",
    "            elif n_year_ != year_2 or n_month_ != 4:\n",
    "                message = message = f\"Semester 2 Holiday Start Date must be in 'April' {year_2}!\"\n",
    "                return render_template('create_timetable.html', message=message, years=years)\n",
    "            else:\n",
    "                df_date = pd.DataFrame(pd.period_range(start=date(year_1, 9, 1), end=date(year_2, 6, 30), freq='W'), columns=['date_range'])\n",
    "                df_date['month'] = df_date.date_range.dt.start_time.dt.month\n",
    "\n",
    "                df1 = df_date.loc[df_date[df_date.date_range.dt.start_time.dt.date.astype(str) == sem1_start].index.values[0]:, ['date_range']].reset_index(drop=True)\n",
    "                df2 = df_date.loc[df_date[df_date.date_range.dt.start_time.dt.date.astype(str) == sem2_start].index.values[0]:, ['date_range']].reset_index(drop=True)\n",
    "\n",
    "                last_academic_week1 = df1[df1.date_range.dt.start_time.dt.date.astype(str) == sem1_holiday_start].index.values[0]\n",
    "                last_academic_week2 = df2[df2.date_range.dt.start_time.dt.date.astype(str) == sem2_holiday_start].index.values[0]\n",
    "                \n",
    "                df1 = pd.concat([df1.loc[:last_academic_week1-1], df1.loc[last_academic_week1+number_of_holiday_week1:]]).reset_index(drop=True).loc[:total_academcic_week-1]\n",
    "                df2 = pd.concat([df2.loc[:last_academic_week2-1], df2.loc[last_academic_week2+number_of_holiday_week2:]]).reset_index(drop=True).loc[:total_academcic_week-1]\n",
    "\n",
    "                df1['academic_semester'] = 1\n",
    "                df1['academic_week'] = df1.index+1\n",
    "                df1['calendar_week'] = df1.date_range.dt.start_time.dt.week\n",
    "                df1['week_start'] = df1.date_range.dt.start_time.dt.date\n",
    "                df1['week_end'] = df1.date_range.dt.end_time.dt.date\n",
    "\n",
    "                df1 = df1[['academic_semester', 'academic_week', 'calendar_week', 'date_range', 'week_start', 'week_end']]\n",
    "                \n",
    "                df2['academic_semester'] = 2\n",
    "                df2['academic_week'] = df2.index+1\n",
    "                df2['calendar_week'] = df2.date_range.dt.start_time.dt.week\n",
    "                df2['week_start'] = df2.date_range.dt.start_time.dt.date\n",
    "                df2['week_end'] = df2.date_range.dt.end_time.dt.date\n",
    "\n",
    "                df2 = df2[['academic_semester', 'academic_week', 'calendar_week', 'date_range', 'week_start', 'week_end']]\n",
    "\n",
    "                df = pd.concat([df1, df2], ignore_index=True)\n",
    "                try:\n",
    "                    test = df_admins.loc[df_admins.email==current_user.email, 'admin_status'].values[0]=='Yes'\n",
    "                except:\n",
    "                    message = 'This Account does not have the admin rights to create a new timetable. Please contact the system admin.'\n",
    "                    return render_template('create_timetable.html', message=message, years=years)\n",
    "                if test:\n",
    "                    df.to_csv(credentials/f'timetable.csv', index=False)\n",
    "                    message = 'Thanks for creating a new timetable! Please check the timetable on the Check Timetable page.'\n",
    "                    return render_template('create_timetable.html', message=message, years=years)\n",
    "                else:\n",
    "                    message = 'This Account does not have the admin rights to create a new timetable. Please contact the system admin.'\n",
    "                    return render_template('create_timetable.html', message=message, years=years)\n",
    "    return render_template('create_timetable.html', message=message, years=years)"
   ]
  },
  {
   "cell_type": "markdown",
   "id": "9edbe22b",
   "metadata": {},
   "source": [
    "## Endpoint for Creating Attendance"
   ]
  },
  {
   "cell_type": "code",
   "execution_count": null,
   "id": "20531999",
   "metadata": {},
   "outputs": [],
   "source": [
    "# Endpoint for creating attendance\n",
    "@app.route('/create_attendance', methods=['GET', 'POST'])\n",
    "@login_required\n",
    "def create_attendance():  \n",
    "    message = None\n",
    "    df_students = pd.read_csv(credentials/'students.csv')\n",
    "    df_courses = pd.read_csv(credentials/'courses.csv')\n",
    "    df_timetable = pd.read_csv(credentials/'timetable.csv', parse_dates=['week_start', 'week_end'], infer_datetime_format=True)\n",
    "    courses = df_courses.course_name.dropna().unique()\n",
    "    weeks = list(df_timetable.academic_week.dropna().unique())\n",
    "\n",
    "    days_dict = {'Monday': 0, 'Tuesday': 1, 'Wednesday': 2, 'Thursday': 3, 'Friday': 4, 'Saturday': 5, 'Sunday': 6}\n",
    "    if request.method == 'POST':\n",
    "        course_name =request.form['comp_select']\n",
    "        course_code = df_courses.loc[df_courses.course_name == course_name, 'course_code'].squeeze()\n",
    "        semester = int(request.form['comp_select1'])\n",
    "        academic_week = int(request.form['comp_select2'])\n",
    "\n",
    "        file_name = f'{course_code}_semester_{semester}_week_{academic_week}_attendance.csv'\n",
    "\n",
    "        if (processed/'attendance'/file_name).exists():\n",
    "            message = f\"Attendance for '{course_name}' for 'semester {semester}', 'week {academic_week}' already exists! Please go to the 'Check Attendance' page to check the attendance.\"\n",
    "            return render_template('create_attendance.html', message=message, courses=courses, weeks=weeks)\n",
    "\n",
    "        else:\n",
    "            teaching_day = df_courses.loc[df_courses.course_name == course_name, 'teaching_day'].squeeze()\n",
    "            day_num_in_week = days_dict[teaching_day]\n",
    "\n",
    "            week_start = df_timetable.loc[(df_timetable.academic_semester==semester) & (df_timetable.academic_week==academic_week), 'week_start'] \n",
    "            year = (week_start + pd.DateOffset(days=day_num_in_week)).dt.year.squeeze()\n",
    "            month = (week_start + pd.DateOffset(days=day_num_in_week)).dt.month.squeeze()\n",
    "            month_name = (week_start + pd.DateOffset(days=day_num_in_week)).dt.month_name().squeeze()\n",
    "            week = (week_start + pd.DateOffset(days=day_num_in_week)).dt.week.squeeze()\n",
    "            day = (week_start + pd.DateOffset(days=day_num_in_week)).dt.day.squeeze()\n",
    "            day_name = (week_start + pd.DateOffset(days=day_num_in_week)).dt.day_name().squeeze()\n",
    "            date = (week_start + pd.DateOffset(days=day_num_in_week)).dt.date.squeeze()\n",
    "            start_hour = int(df_courses.loc[df_courses.course_name == course_name, 'start_time'].apply(lambda x: str(x)[:2]).squeeze())\n",
    "            end_hour = int(df_courses.loc[df_courses.course_name == course_name, 'end_time'].apply(lambda x: str(x)[:2]).squeeze())\n",
    "            \n",
    "            # Retrieve sms using the client object\n",
    "            messages = client.messages.list(\n",
    "                date_sent_after=datetime(year, month, day, start_hour, 0, 0),\n",
    "                date_sent_before=datetime(year, month, day, end_hour, 0, 0)\n",
    "            )\n",
    "            if len(messages) == 0:\n",
    "                message = 'No attendance received for that week!'\n",
    "                return render_template('create_attendance.html', message=message, courses=courses, weeks=weeks)\n",
    "            else:\n",
    "                # Append the retrieved sms's to a dataframe\n",
    "                d = []\n",
    "                for message in messages:\n",
    "                    d.append((message.from_, message.body, message.status, message.date_sent))\n",
    "\n",
    "                df = pd.DataFrame(d, columns=['from' ,'message' ,'status' ,'date_sent'])\n",
    "                try:\n",
    "                    df['student_id'] = df.message.str.split(' ', expand=True, n=1)[0]\n",
    "                except:\n",
    "                    df['student_id'] = None\n",
    "                try:\n",
    "                    df['course_code'] = df.message.str.split(' ', expand=True, n=1)[1]\n",
    "                except:\n",
    "                    df['course_code'] = None\n",
    "                \n",
    "                # function to extract student name\n",
    "                def student_name(df):\n",
    "                    first_name = df_students.loc[df_students.student_id.astype(str) == df.student_id, 'first_name'].squeeze()\n",
    "                    last_name = df_students.loc[df_students.student_id.astype(str) == df.student_id, 'last_name'].squeeze()\n",
    "                    df['student_name'] = first_name+ ' ' + last_name\n",
    "                    return df\n",
    "\n",
    "                df = df.loc[df.status=='received'].apply(student_name, axis='columns')\n",
    "\n",
    "                df_attendance = df.loc[(df.student_id.isin(df_students.student_id.astype(str))) & (df.course_code==str(course_code))]\n",
    "                df_attendance = df_attendance[['from', 'student_id', 'student_name', 'message', 'date_sent']]\n",
    "                df_invalid_attendance = df.loc[~(df.student_id.isin(df_students.student_id.astype(str))) | (df.course_code!=str(course_code))]\n",
    "                \n",
    "                file_name_raw = f'{course_code}_semester_{semester}_week_{academic_week}_raw.csv'\n",
    "                file_name_spam = f'{course_code}_semester_{semester}_week_{academic_week}_spammed.csv'\n",
    "\n",
    "                df.to_csv(raw/file_name_raw, index=False)\n",
    "                df_attendance.to_csv(processed/'attendance'/file_name, index=False)\n",
    "                df_invalid_attendance.to_csv(processed/'spam'/file_name_spam, index=False)\n",
    "\n",
    "                df_weekly = pd.read_csv(processed/'weekly_attendance.csv')\n",
    "\n",
    "                df_weekly = df_weekly.append({\n",
    "                    'course_name': course_name, 'course_code': course_code, 'date': date, 'year': year, 'month': month_name,\n",
    "                    'day': day_name, 'week': week, 'academic_semester': semester, 'academic_week': academic_week, 'total_attendees': len(df_attendance)\n",
    "                }, ignore_index=True)\n",
    "                df_weekly.to_csv(processed/'weekly_attendance.csv', index=False)\n",
    "                \n",
    "                # Acknowledgement message to the students\n",
    "                for student in df_attendance.student_id:\n",
    "                    student_name = df_students.loc[df_students.student_id.astype(str).isin([student]), 'first_name'].squeeze()\n",
    "                    student_phone_no = df_attendance.loc[df_attendance.student_id==student, 'from'].squeeze()\n",
    "\n",
    "                    client.messages.create(\n",
    "                    body = f\"Hi {student_name}, congratulations! Your attendance for '{course_name}', 'semester {semester}', 'week {academic_week}' has been successfully registered.\",\n",
    "                    from_ = os.environ.get(\"TWILIO_PHONE_NUMBER\"),\n",
    "                    to=student_phone_no)\n",
    "                \n",
    "                # Email the attendance to the tutor\n",
    "                tutor_name = df_courses.loc[df_courses.course_name == course_name, 'tutor'].str.split(' ', expand=True, n=1)[0].squeeze()\n",
    "                tutor_email = df_courses.loc[df_courses.course_name == course_name, 'email'].squeeze()\n",
    "                msg = Message(f'Attendance- {course_name}, semester {semester}, week {academic_week}',\n",
    "                          sender=\"admin@attendance.lsbu.ac.uk\", recipients=[tutor_email])\n",
    "                msg.body = f\"Hi {tutor_name},\\n\\nThe attendance for '{course_name}' for 'semester {semester}', 'week {academic_week}' has been created.\\n\\nPlease find the attendance attached!\\n\\nKind Regards,\\nAttendance Team\"\n",
    "                with app.open_resource(f'datasets\\\\processed\\\\attendance\\\\{file_name}') as fp:  \n",
    "                    msg.attach(f'datasets\\\\processed\\\\attendance\\\\{file_name}', \"text/csv\", fp.read()) \n",
    "                mail.send(msg)\n",
    "\n",
    "                message = f\"Attendance for '{course_name}' for 'semester {semester}', 'week {academic_week}' created successfully! Please go to the 'Check Attendance' page to check the attendance.\"\n",
    "                return render_template('create_attendance.html', message=message, courses=courses, weeks=weeks)\n",
    "    return render_template('create_attendance.html', courses=courses, weeks=weeks)"
   ]
  },
  {
   "cell_type": "markdown",
   "id": "324dd8c9",
   "metadata": {},
   "source": [
    "The other endpoints are discussed in the later notebooks."
   ]
  },
  {
   "cell_type": "markdown",
   "id": "c60a0899",
   "metadata": {},
   "source": [
    "### Summary\n",
    "In this notebook it was demonstrated how to:\n",
    "-  Import python all libraries and packages\n",
    "-  Set up the paths to the project directories\n",
    "-  Configure a flask application\n",
    "-  Configure falsk-mailing\n",
    "-  Configure flask-login and seesion management \n",
    "-  Define endpoints for flask application"
   ]
  },
  {
   "cell_type": "markdown",
   "id": "3338fb6f",
   "metadata": {},
   "source": [
    "<center><b>Author</b></center>\n",
    "\n",
    "| Name | Date Created | Last Modified |\n",
    "|------|--------------|---------------|\n",
    "|Khaled Ahmed | 30/01/2023 | 30/01/2023|"
   ]
  }
 ],
 "metadata": {
  "kernelspec": {
   "display_name": "Python 3 (ipykernel)",
   "language": "python",
   "name": "python3"
  },
  "language_info": {
   "codemirror_mode": {
    "name": "ipython",
    "version": 3
   },
   "file_extension": ".py",
   "mimetype": "text/x-python",
   "name": "python",
   "nbconvert_exporter": "python",
   "pygments_lexer": "ipython3",
   "version": "3.7.13"
  },
  "vscode": {
   "interpreter": {
    "hash": "8772fee82389021f9a06d07f6d962e66f66440103d20066f1d4e1f6e0bed6b66"
   }
  }
 },
 "nbformat": 4,
 "nbformat_minor": 5
}
