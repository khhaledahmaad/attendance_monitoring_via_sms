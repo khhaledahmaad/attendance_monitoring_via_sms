{
 "cells": [
  {
   "cell_type": "markdown",
   "id": "3338fb6f",
   "metadata": {},
   "source": [
    "![lsbu](https://storage-prtl-co.imgix.net/endor/organisations/11506/logos/1540893470_rsz_lsbu_crest_simple_white_text_horizon_blackoutline.jpg)"
   ]
  },
  {
   "cell_type": "markdown",
   "id": "1abd8ef5",
   "metadata": {},
   "source": [
    "## Introduction\n",
    "This notebook shows how to retrieve text messages sent by students to a Twilio number for a specific time duration to create an attendance based on the course date time data available on course datasets stored in .csv files."
   ]
  },
  {
   "cell_type": "markdown",
   "id": "3209f2a2",
   "metadata": {},
   "source": [
    "## Objectives\n",
    "-  Enroll random students to different courses\n",
    "-  Export the courses with randomly assigned studends"
   ]
  },
  {
   "cell_type": "code",
   "execution_count": 1,
   "id": "d0b24a0d",
   "metadata": {},
   "outputs": [],
   "source": [
    "# Import libraries\n",
    "import os\n",
    "import pathlib\n",
    "import secrets\n",
    "from dotenv import load_dotenv\n",
    "import pandas as pd\n",
    "from datetime import datetime\n",
    "from twilio.rest import Client\n",
    "from flask import Flask\n",
    "from flask_mail import Mail, Message"
   ]
  },
  {
   "cell_type": "code",
   "execution_count": 2,
   "id": "4c0644ea",
   "metadata": {},
   "outputs": [],
   "source": [
    "# Set paths\n",
    "base_dir = pathlib.Path().absolute().parent\n",
    "\n",
    "# Path to all data directories\n",
    "data = base_dir/'datasets'\n",
    "\n",
    "# Path to credentials data\n",
    "credentials = data/'credentials'\n",
    "\n",
    "# Path to state data\n",
    "state = data/'state'\n",
    "\n",
    "# Path to raw data\n",
    "raw = data/'raw'\n",
    "\n",
    "# Path to processed data\n",
    "processed = data/'processed'\n",
    "\n",
    "# Path to environment variables\n",
    "env_vars = pathlib.Path(base_dir/'env_vars')"
   ]
  },
  {
   "cell_type": "code",
   "execution_count": 3,
   "id": "64d5194f",
   "metadata": {},
   "outputs": [
    {
     "name": "stdout",
     "output_type": "stream",
     "text": [
      "(20, 5)\n"
     ]
    },
    {
     "data": {
      "text/html": [
       "<div>\n",
       "<style scoped>\n",
       "    .dataframe tbody tr th:only-of-type {\n",
       "        vertical-align: middle;\n",
       "    }\n",
       "\n",
       "    .dataframe tbody tr th {\n",
       "        vertical-align: top;\n",
       "    }\n",
       "\n",
       "    .dataframe thead th {\n",
       "        text-align: right;\n",
       "    }\n",
       "</style>\n",
       "<table border=\"1\" class=\"dataframe\">\n",
       "  <thead>\n",
       "    <tr style=\"text-align: right;\">\n",
       "      <th></th>\n",
       "      <th>id</th>\n",
       "      <th>first_name</th>\n",
       "      <th>last_name</th>\n",
       "      <th>student_id</th>\n",
       "      <th>email</th>\n",
       "    </tr>\n",
       "  </thead>\n",
       "  <tbody>\n",
       "    <tr>\n",
       "      <th>0</th>\n",
       "      <td>1</td>\n",
       "      <td>Khaled</td>\n",
       "      <td>Ahmed</td>\n",
       "      <td>3821656</td>\n",
       "      <td>ahmedk56@lsbu.ac.uk</td>\n",
       "    </tr>\n",
       "    <tr>\n",
       "      <th>1</th>\n",
       "      <td>2</td>\n",
       "      <td>Bobby</td>\n",
       "      <td>Hurley</td>\n",
       "      <td>3821657</td>\n",
       "      <td>hurleyb57@lsbu.ac.uk</td>\n",
       "    </tr>\n",
       "    <tr>\n",
       "      <th>2</th>\n",
       "      <td>3</td>\n",
       "      <td>Porter</td>\n",
       "      <td>Mckinney</td>\n",
       "      <td>3821658</td>\n",
       "      <td>mckinneyp58@lsbu.ac.uk</td>\n",
       "    </tr>\n",
       "    <tr>\n",
       "      <th>3</th>\n",
       "      <td>4</td>\n",
       "      <td>Laura</td>\n",
       "      <td>Meyers</td>\n",
       "      <td>3821659</td>\n",
       "      <td>meyersl59@lsbu.ac.uk</td>\n",
       "    </tr>\n",
       "    <tr>\n",
       "      <th>4</th>\n",
       "      <td>5</td>\n",
       "      <td>Natalya</td>\n",
       "      <td>Skinner</td>\n",
       "      <td>3821660</td>\n",
       "      <td>skinnern60@lsbu.ac.uk</td>\n",
       "    </tr>\n",
       "  </tbody>\n",
       "</table>\n",
       "</div>"
      ],
      "text/plain": [
       "   id first_name last_name  student_id                   email\n",
       "0   1     Khaled     Ahmed     3821656     ahmedk56@lsbu.ac.uk\n",
       "1   2      Bobby    Hurley     3821657    hurleyb57@lsbu.ac.uk\n",
       "2   3     Porter  Mckinney     3821658  mckinneyp58@lsbu.ac.uk\n",
       "3   4      Laura    Meyers     3821659    meyersl59@lsbu.ac.uk\n",
       "4   5    Natalya   Skinner     3821660   skinnern60@lsbu.ac.uk"
      ]
     },
     "execution_count": 3,
     "metadata": {},
     "output_type": "execute_result"
    }
   ],
   "source": [
    "# Load student table\n",
    "df_students = pd.read_csv(credentials/'students.csv')\n",
    "# Preview\n",
    "print(df_students.shape)\n",
    "df_students.head()"
   ]
  },
  {
   "cell_type": "code",
   "execution_count": 4,
   "id": "bda1ea83",
   "metadata": {},
   "outputs": [
    {
     "name": "stdout",
     "output_type": "stream",
     "text": [
      "(10, 8)\n"
     ]
    },
    {
     "data": {
      "text/html": [
       "<div>\n",
       "<style scoped>\n",
       "    .dataframe tbody tr th:only-of-type {\n",
       "        vertical-align: middle;\n",
       "    }\n",
       "\n",
       "    .dataframe tbody tr th {\n",
       "        vertical-align: top;\n",
       "    }\n",
       "\n",
       "    .dataframe thead th {\n",
       "        text-align: right;\n",
       "    }\n",
       "</style>\n",
       "<table border=\"1\" class=\"dataframe\">\n",
       "  <thead>\n",
       "    <tr style=\"text-align: right;\">\n",
       "      <th></th>\n",
       "      <th>id</th>\n",
       "      <th>course_name</th>\n",
       "      <th>course_code</th>\n",
       "      <th>tutor</th>\n",
       "      <th>email</th>\n",
       "      <th>teaching_day</th>\n",
       "      <th>start_time</th>\n",
       "      <th>end_time</th>\n",
       "    </tr>\n",
       "  </thead>\n",
       "  <tbody>\n",
       "    <tr>\n",
       "      <th>0</th>\n",
       "      <td>1</td>\n",
       "      <td>Engineering Mathematics and Modelling</td>\n",
       "      <td>101</td>\n",
       "      <td>Jon Selig</td>\n",
       "      <td>seligjm@lsbu.ac.uk</td>\n",
       "      <td>Monday</td>\n",
       "      <td>09:00</td>\n",
       "      <td>11:00</td>\n",
       "    </tr>\n",
       "    <tr>\n",
       "      <th>1</th>\n",
       "      <td>2</td>\n",
       "      <td>Digital Logic Design</td>\n",
       "      <td>102</td>\n",
       "      <td>Oswaldo Cadenas</td>\n",
       "      <td>cadenaso@lsbu.ac.uk</td>\n",
       "      <td>Tuesday</td>\n",
       "      <td>10:00</td>\n",
       "      <td>12:00</td>\n",
       "    </tr>\n",
       "    <tr>\n",
       "      <th>2</th>\n",
       "      <td>3</td>\n",
       "      <td>Cybersecurity and Cryptography</td>\n",
       "      <td>103</td>\n",
       "      <td>Stavros Dimitriou</td>\n",
       "      <td>dimitrsa@lsbu.ac.uk</td>\n",
       "      <td>Wednesday</td>\n",
       "      <td>12:00</td>\n",
       "      <td>14:00</td>\n",
       "    </tr>\n",
       "    <tr>\n",
       "      <th>3</th>\n",
       "      <td>4</td>\n",
       "      <td>Final Year Project</td>\n",
       "      <td>104</td>\n",
       "      <td>Fang Duan</td>\n",
       "      <td>duanf@lsbu.ac.uk</td>\n",
       "      <td>Thursday</td>\n",
       "      <td>12:00</td>\n",
       "      <td>14:00</td>\n",
       "    </tr>\n",
       "    <tr>\n",
       "      <th>4</th>\n",
       "      <td>5</td>\n",
       "      <td>Computer Systems and Software Engineering</td>\n",
       "      <td>105</td>\n",
       "      <td>Ya Bao</td>\n",
       "      <td>baoyb@lsbu.ac.uk</td>\n",
       "      <td>Friday</td>\n",
       "      <td>13:00</td>\n",
       "      <td>15:00</td>\n",
       "    </tr>\n",
       "  </tbody>\n",
       "</table>\n",
       "</div>"
      ],
      "text/plain": [
       "   id                                course_name  course_code  \\\n",
       "0   1      Engineering Mathematics and Modelling          101   \n",
       "1   2                       Digital Logic Design          102   \n",
       "2   3             Cybersecurity and Cryptography          103   \n",
       "3   4                         Final Year Project          104   \n",
       "4   5  Computer Systems and Software Engineering          105   \n",
       "\n",
       "               tutor                email teaching_day start_time end_time  \n",
       "0          Jon Selig   seligjm@lsbu.ac.uk       Monday      09:00    11:00  \n",
       "1    Oswaldo Cadenas  cadenaso@lsbu.ac.uk      Tuesday      10:00    12:00  \n",
       "2  Stavros Dimitriou  dimitrsa@lsbu.ac.uk    Wednesday      12:00    14:00  \n",
       "3          Fang Duan     duanf@lsbu.ac.uk     Thursday      12:00    14:00  \n",
       "4             Ya Bao     baoyb@lsbu.ac.uk       Friday      13:00    15:00  "
      ]
     },
     "execution_count": 4,
     "metadata": {},
     "output_type": "execute_result"
    }
   ],
   "source": [
    "# Load course table\n",
    "df_courses = pd.read_csv(credentials/'courses.csv')\n",
    "# Preview\n",
    "print(df_courses.shape)\n",
    "df_courses.head()"
   ]
  },
  {
   "cell_type": "code",
   "execution_count": 5,
   "id": "1d7010a9",
   "metadata": {},
   "outputs": [
    {
     "data": {
      "text/plain": [
       "array([3821656, 3821657, 3821658, 3821659, 3821660, 3821661, 3821662,\n",
       "       3821663, 3821664, 3821665, 3821666, 3821667, 3821668, 3821669,\n",
       "       3821670, 3821671, 3821672, 3821673, 3821674, 3821675], dtype=int64)"
      ]
     },
     "execution_count": 5,
     "metadata": {},
     "output_type": "execute_result"
    }
   ],
   "source": [
    "# All Students\n",
    "students = df_students.student_id.dropna().unique()\n",
    "students"
   ]
  },
  {
   "cell_type": "code",
   "execution_count": 6,
   "id": "cc8c6e48",
   "metadata": {},
   "outputs": [
    {
     "data": {
      "text/plain": [
       "array(['Engineering Mathematics and Modelling', 'Digital Logic Design',\n",
       "       'Cybersecurity and Cryptography', 'Final Year Project',\n",
       "       'Computer Systems and Software Engineering',\n",
       "       'Desging and Practice', 'Engineering Computing',\n",
       "       'Engineering Principles', 'Innovation and Enterprise',\n",
       "       'Computer Networks'], dtype=object)"
      ]
     },
     "execution_count": 6,
     "metadata": {},
     "output_type": "execute_result"
    }
   ],
   "source": [
    "# All courses\n",
    "courses = df_courses.course_name.dropna().unique()\n",
    "courses"
   ]
  },
  {
   "cell_type": "code",
   "execution_count": 7,
   "id": "976ee1af",
   "metadata": {},
   "outputs": [
    {
     "data": {
      "text/html": [
       "<div>\n",
       "<style scoped>\n",
       "    .dataframe tbody tr th:only-of-type {\n",
       "        vertical-align: middle;\n",
       "    }\n",
       "\n",
       "    .dataframe tbody tr th {\n",
       "        vertical-align: top;\n",
       "    }\n",
       "\n",
       "    .dataframe thead th {\n",
       "        text-align: right;\n",
       "    }\n",
       "</style>\n",
       "<table border=\"1\" class=\"dataframe\">\n",
       "  <thead>\n",
       "    <tr style=\"text-align: right;\">\n",
       "      <th></th>\n",
       "      <th>first_name</th>\n",
       "      <th>last_name</th>\n",
       "      <th>student_id</th>\n",
       "      <th>email</th>\n",
       "    </tr>\n",
       "  </thead>\n",
       "  <tbody>\n",
       "    <tr>\n",
       "      <th>0</th>\n",
       "      <td>Cade</td>\n",
       "      <td>Higgins</td>\n",
       "      <td>3821665</td>\n",
       "      <td>higginsc65@lsbu.ac.uk</td>\n",
       "    </tr>\n",
       "    <tr>\n",
       "      <th>1</th>\n",
       "      <td>Khaled</td>\n",
       "      <td>Ahmed</td>\n",
       "      <td>3821656</td>\n",
       "      <td>ahmedk56@lsbu.ac.uk</td>\n",
       "    </tr>\n",
       "    <tr>\n",
       "      <th>2</th>\n",
       "      <td>Matilda</td>\n",
       "      <td>Fritz</td>\n",
       "      <td>3821674</td>\n",
       "      <td>fritzm74@lsbu.ac.uk</td>\n",
       "    </tr>\n",
       "    <tr>\n",
       "      <th>3</th>\n",
       "      <td>Melina</td>\n",
       "      <td>Haney</td>\n",
       "      <td>3821661</td>\n",
       "      <td>haneym61@lsbu.ac.uk</td>\n",
       "    </tr>\n",
       "    <tr>\n",
       "      <th>4</th>\n",
       "      <td>Sofia</td>\n",
       "      <td>Lee</td>\n",
       "      <td>3821662</td>\n",
       "      <td>lees62@lsbu.ac.uk</td>\n",
       "    </tr>\n",
       "  </tbody>\n",
       "</table>\n",
       "</div>"
      ],
      "text/plain": [
       "  first_name last_name  student_id                  email\n",
       "0       Cade   Higgins     3821665  higginsc65@lsbu.ac.uk\n",
       "1     Khaled     Ahmed     3821656    ahmedk56@lsbu.ac.uk\n",
       "2    Matilda     Fritz     3821674    fritzm74@lsbu.ac.uk\n",
       "3     Melina     Haney     3821661    haneym61@lsbu.ac.uk\n",
       "4      Sofia       Lee     3821662      lees62@lsbu.ac.uk"
      ]
     },
     "execution_count": 7,
     "metadata": {},
     "output_type": "execute_result"
    }
   ],
   "source": [
    "# Select random 5 students\n",
    "df_5 = df_students.iloc[:,1:].sample(5).sort_values(['first_name', 'last_name']).reset_index(drop=True)\n",
    "# Preview\n",
    "df_5"
   ]
  },
  {
   "cell_type": "code",
   "execution_count": 8,
   "id": "b5c3d925",
   "metadata": {},
   "outputs": [
    {
     "data": {
      "text/html": [
       "<div>\n",
       "<style scoped>\n",
       "    .dataframe tbody tr th:only-of-type {\n",
       "        vertical-align: middle;\n",
       "    }\n",
       "\n",
       "    .dataframe tbody tr th {\n",
       "        vertical-align: top;\n",
       "    }\n",
       "\n",
       "    .dataframe thead th {\n",
       "        text-align: right;\n",
       "    }\n",
       "</style>\n",
       "<table border=\"1\" class=\"dataframe\">\n",
       "  <thead>\n",
       "    <tr style=\"text-align: right;\">\n",
       "      <th></th>\n",
       "      <th>first_name</th>\n",
       "      <th>last_name</th>\n",
       "      <th>student_id</th>\n",
       "      <th>email</th>\n",
       "      <th>course_name</th>\n",
       "      <th>course_code</th>\n",
       "    </tr>\n",
       "  </thead>\n",
       "  <tbody>\n",
       "    <tr>\n",
       "      <th>0</th>\n",
       "      <td>Cade</td>\n",
       "      <td>Higgins</td>\n",
       "      <td>3821665</td>\n",
       "      <td>higginsc65@lsbu.ac.uk</td>\n",
       "      <td>Engineering Mathematics and Modelling</td>\n",
       "      <td>101</td>\n",
       "    </tr>\n",
       "    <tr>\n",
       "      <th>1</th>\n",
       "      <td>Khaled</td>\n",
       "      <td>Ahmed</td>\n",
       "      <td>3821656</td>\n",
       "      <td>ahmedk56@lsbu.ac.uk</td>\n",
       "      <td>Engineering Mathematics and Modelling</td>\n",
       "      <td>101</td>\n",
       "    </tr>\n",
       "    <tr>\n",
       "      <th>2</th>\n",
       "      <td>Matilda</td>\n",
       "      <td>Fritz</td>\n",
       "      <td>3821674</td>\n",
       "      <td>fritzm74@lsbu.ac.uk</td>\n",
       "      <td>Engineering Mathematics and Modelling</td>\n",
       "      <td>101</td>\n",
       "    </tr>\n",
       "    <tr>\n",
       "      <th>3</th>\n",
       "      <td>Melina</td>\n",
       "      <td>Haney</td>\n",
       "      <td>3821661</td>\n",
       "      <td>haneym61@lsbu.ac.uk</td>\n",
       "      <td>Engineering Mathematics and Modelling</td>\n",
       "      <td>101</td>\n",
       "    </tr>\n",
       "    <tr>\n",
       "      <th>4</th>\n",
       "      <td>Sofia</td>\n",
       "      <td>Lee</td>\n",
       "      <td>3821662</td>\n",
       "      <td>lees62@lsbu.ac.uk</td>\n",
       "      <td>Engineering Mathematics and Modelling</td>\n",
       "      <td>101</td>\n",
       "    </tr>\n",
       "  </tbody>\n",
       "</table>\n",
       "</div>"
      ],
      "text/plain": [
       "  first_name last_name  student_id                  email  \\\n",
       "0       Cade   Higgins     3821665  higginsc65@lsbu.ac.uk   \n",
       "1     Khaled     Ahmed     3821656    ahmedk56@lsbu.ac.uk   \n",
       "2    Matilda     Fritz     3821674    fritzm74@lsbu.ac.uk   \n",
       "3     Melina     Haney     3821661    haneym61@lsbu.ac.uk   \n",
       "4      Sofia       Lee     3821662      lees62@lsbu.ac.uk   \n",
       "\n",
       "                             course_name  course_code  \n",
       "0  Engineering Mathematics and Modelling          101  \n",
       "1  Engineering Mathematics and Modelling          101  \n",
       "2  Engineering Mathematics and Modelling          101  \n",
       "3  Engineering Mathematics and Modelling          101  \n",
       "4  Engineering Mathematics and Modelling          101  "
      ]
     },
     "execution_count": 8,
     "metadata": {},
     "output_type": "execute_result"
    }
   ],
   "source": [
    "# Assign the random 5 students to a random course\n",
    "df_5[['course_name', 'course_code']] = df_courses.course_name[0], df_courses.course_code[0]\n",
    "# Preview\n",
    "df_5"
   ]
  },
  {
   "cell_type": "code",
   "execution_count": 9,
   "id": "d2f87f31",
   "metadata": {},
   "outputs": [
    {
     "data": {
      "text/html": [
       "<div>\n",
       "<style scoped>\n",
       "    .dataframe tbody tr th:only-of-type {\n",
       "        vertical-align: middle;\n",
       "    }\n",
       "\n",
       "    .dataframe tbody tr th {\n",
       "        vertical-align: top;\n",
       "    }\n",
       "\n",
       "    .dataframe thead th {\n",
       "        text-align: right;\n",
       "    }\n",
       "</style>\n",
       "<table border=\"1\" class=\"dataframe\">\n",
       "  <thead>\n",
       "    <tr style=\"text-align: right;\">\n",
       "      <th></th>\n",
       "      <th>course_name</th>\n",
       "      <th>course_code</th>\n",
       "      <th>first_name</th>\n",
       "      <th>last_name</th>\n",
       "      <th>student_id</th>\n",
       "      <th>email</th>\n",
       "    </tr>\n",
       "  </thead>\n",
       "  <tbody>\n",
       "    <tr>\n",
       "      <th>0</th>\n",
       "      <td>Engineering Mathematics and Modelling</td>\n",
       "      <td>101</td>\n",
       "      <td>Cade</td>\n",
       "      <td>Higgins</td>\n",
       "      <td>3821665</td>\n",
       "      <td>higginsc65@lsbu.ac.uk</td>\n",
       "    </tr>\n",
       "    <tr>\n",
       "      <th>1</th>\n",
       "      <td>Engineering Mathematics and Modelling</td>\n",
       "      <td>101</td>\n",
       "      <td>Khaled</td>\n",
       "      <td>Ahmed</td>\n",
       "      <td>3821656</td>\n",
       "      <td>ahmedk56@lsbu.ac.uk</td>\n",
       "    </tr>\n",
       "    <tr>\n",
       "      <th>2</th>\n",
       "      <td>Engineering Mathematics and Modelling</td>\n",
       "      <td>101</td>\n",
       "      <td>Matilda</td>\n",
       "      <td>Fritz</td>\n",
       "      <td>3821674</td>\n",
       "      <td>fritzm74@lsbu.ac.uk</td>\n",
       "    </tr>\n",
       "    <tr>\n",
       "      <th>3</th>\n",
       "      <td>Engineering Mathematics and Modelling</td>\n",
       "      <td>101</td>\n",
       "      <td>Melina</td>\n",
       "      <td>Haney</td>\n",
       "      <td>3821661</td>\n",
       "      <td>haneym61@lsbu.ac.uk</td>\n",
       "    </tr>\n",
       "    <tr>\n",
       "      <th>4</th>\n",
       "      <td>Engineering Mathematics and Modelling</td>\n",
       "      <td>101</td>\n",
       "      <td>Sofia</td>\n",
       "      <td>Lee</td>\n",
       "      <td>3821662</td>\n",
       "      <td>lees62@lsbu.ac.uk</td>\n",
       "    </tr>\n",
       "  </tbody>\n",
       "</table>\n",
       "</div>"
      ],
      "text/plain": [
       "                             course_name  course_code first_name last_name  \\\n",
       "0  Engineering Mathematics and Modelling          101       Cade   Higgins   \n",
       "1  Engineering Mathematics and Modelling          101     Khaled     Ahmed   \n",
       "2  Engineering Mathematics and Modelling          101    Matilda     Fritz   \n",
       "3  Engineering Mathematics and Modelling          101     Melina     Haney   \n",
       "4  Engineering Mathematics and Modelling          101      Sofia       Lee   \n",
       "\n",
       "   student_id                  email  \n",
       "0     3821665  higginsc65@lsbu.ac.uk  \n",
       "1     3821656    ahmedk56@lsbu.ac.uk  \n",
       "2     3821674    fritzm74@lsbu.ac.uk  \n",
       "3     3821661    haneym61@lsbu.ac.uk  \n",
       "4     3821662      lees62@lsbu.ac.uk  "
      ]
     },
     "execution_count": 9,
     "metadata": {},
     "output_type": "execute_result"
    }
   ],
   "source": [
    "# Re-arrange\n",
    "df_5 = df_5[['course_name', 'course_code', 'first_name', 'last_name', 'student_id', 'email']]\n",
    "df_5.head()"
   ]
  },
  {
   "cell_type": "code",
   "execution_count": 10,
   "id": "3f343ab2",
   "metadata": {},
   "outputs": [
    {
     "name": "stdout",
     "output_type": "stream",
     "text": [
      "5 students assigned to Engineering Mathematics and Modelling!\n",
      "5 students assigned to Digital Logic Design!\n",
      "5 students assigned to Cybersecurity and Cryptography!\n",
      "5 students assigned to Final Year Project!\n",
      "5 students assigned to Computer Systems and Software Engineering!\n",
      "5 students assigned to Desging and Practice!\n",
      "5 students assigned to Engineering Computing!\n",
      "5 students assigned to Engineering Principles!\n",
      "5 students assigned to Innovation and Enterprise!\n",
      "5 students assigned to Computer Networks!\n"
     ]
    }
   ],
   "source": [
    "# Create a loop to enrol random student to each course\n",
    "for i in range(len(df_courses)):\n",
    "    # Select random 10 students\n",
    "    df_5 = df_students.iloc[:,1:].sample(5).sort_values(['first_name', 'last_name']).reset_index(drop=True)\n",
    "    # Assign the random 10 students to a random course\n",
    "    df_5[['course_name', 'course_code']] = df_courses.course_name[i], df_courses.course_code[i]\n",
    "    # Re-arrange\n",
    "    df_5 = df_5[['course_name', 'course_code', 'first_name', 'last_name', 'student_id', 'email']]\n",
    "    df_5.to_csv(credentials/'enrolled'/f'{df_courses.course_code[i]}_enrolled_students.csv', index=False)\n",
    "    print(f'{len(df_5)} students assigned to {df_courses.course_name[i]}!')"
   ]
  },
  {
   "cell_type": "markdown",
   "id": "bc5cf37f",
   "metadata": {},
   "source": [
    "### Summary\n",
    "In this notebook it was demonstrated how to:\n",
    "-  Enroll random students to different courses\n",
    "-  Export the courses with randomly assigned studends"
   ]
  },
  {
   "cell_type": "markdown",
   "id": "eb12f42c",
   "metadata": {},
   "source": [
    "<center><b>Author</b></center>\n",
    "\n",
    "| Name | Date Created | Last Modified |\n",
    "|------|--------------|---------------|\n",
    "|Khaled Ahmed | 25/01/2023 | 25/01/2023|"
   ]
  }
 ],
 "metadata": {
  "kernelspec": {
   "display_name": "Python 3 (ipykernel)",
   "language": "python",
   "name": "python3"
  },
  "language_info": {
   "codemirror_mode": {
    "name": "ipython",
    "version": 3
   },
   "file_extension": ".py",
   "mimetype": "text/x-python",
   "name": "python",
   "nbconvert_exporter": "python",
   "pygments_lexer": "ipython3",
   "version": "3.7.13"
  },
  "vscode": {
   "interpreter": {
    "hash": "8772fee82389021f9a06d07f6d962e66f66440103d20066f1d4e1f6e0bed6b66"
   }
  }
 },
 "nbformat": 4,
 "nbformat_minor": 5
}
